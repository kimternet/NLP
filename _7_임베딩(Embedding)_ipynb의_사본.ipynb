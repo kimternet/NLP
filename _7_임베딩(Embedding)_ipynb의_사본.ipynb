{
  "nbformat": 4,
  "nbformat_minor": 0,
  "metadata": {
    "colab": {
      "provenance": []
    },
    "kernelspec": {
      "name": "python3",
      "display_name": "Python 3"
    },
    "accelerator": "GPU"
  },
  "cells": [
    {
      "cell_type": "markdown",
      "metadata": {
        "id": "sqJ4qz2uwHHH"
      },
      "source": [
        "# 임베딩(Embedding)"
      ]
    },
    {
      "cell_type": "markdown",
      "metadata": {
        "id": "E2HuxbsICXZc"
      },
      "source": [
        "* 워드 임베딩은 단어를 컴퓨터가 이해하고, 효율적으로 처리할 수 있도록 단어를 벡터화하는 기술\n",
        "* 워드 임베딩은 단어의 의미를 잘 표현해야만 하며, 현재까지도 많은 표현 방법이 연구\n",
        "* 워드 임베딩을 거쳐 잘 표현된 단어 벡터들은 계산이 가능하며, 모델 투입도 가능"
      ]
    },
    {
      "cell_type": "markdown",
      "metadata": {
        "id": "m0bGg7PjHyKM"
      },
      "source": [
        "## 인코딩(Encoding)"
      ]
    },
    {
      "cell_type": "markdown",
      "metadata": {
        "id": "lWVay2ofi4vR"
      },
      "source": [
        "* 기계는 자연어(영어, 한국어 등)을 이해할 수 없음\n",
        "* 데이터를 기계가 이해할 수 있도록 숫자 등으로 변환해주는 작업이 필요\n",
        "* 이러한 작업을 인코딩이라고 함\n",
        "\n",
        "* 텍스트 처리에서는 주로 정수 인코딩, 원 핫 인코딩을 사용"
      ]
    },
    {
      "cell_type": "markdown",
      "metadata": {
        "id": "QPXDPmRtKDfr"
      },
      "source": [
        "### 정수 인코딩"
      ]
    },
    {
      "cell_type": "markdown",
      "metadata": {
        "id": "zzb5eqDEPJDs"
      },
      "source": [
        "#### dictionary를 이용한 정수 인코딩"
      ]
    },
    {
      "cell_type": "markdown",
      "metadata": {
        "id": "MecMDCLZQz8X"
      },
      "source": [
        "* 각 단어와 정수 인덱스를 연결하고, 토큰을 변환해주는 정수 인코딩"
      ]
    },
    {
      "cell_type": "code",
      "metadata": {
        "id": "AZoYLia2PQTV",
        "colab": {
          "base_uri": "https://localhost:8080/"
        },
        "outputId": "bebb283b-af4c-4506-a7ab-760d21a9e51a"
      },
      "source": [
        "text = \"평생 살 것처럼 꿈을 꾸어라. 그리고 내일 죽을 것처럼 오늘을 살아라\"\n",
        "\n",
        "tokens = [x for x in text.split(' ')]\n",
        "unique = set(tokens)\n",
        "unique = list(unique)\n",
        "\n",
        "token2idx = {}\n",
        "\n",
        "for i in range(len(unique)):\n",
        "  token2idx[unique[i]] = i\n",
        "\n",
        "encode = [token2idx[x] for x in tokens]\n",
        "encode"
      ],
      "execution_count": 1,
      "outputs": [
        {
          "output_type": "execute_result",
          "data": {
            "text/plain": [
              "[3, 1, 7, 0, 4, 5, 6, 9, 7, 8, 2]"
            ]
          },
          "metadata": {},
          "execution_count": 1
        }
      ]
    },
    {
      "cell_type": "markdown",
      "metadata": {
        "id": "uBEtdH1cPENH"
      },
      "source": [
        "#### keras를 이용한 정수 인코딩"
      ]
    },
    {
      "cell_type": "markdown",
      "metadata": {
        "id": "OpuQdjiLhogy"
      },
      "source": [
        "* 정수 인코딩은 단어에 정수로 레이블을 부여\n",
        "* `dictionary`, `nltk` 패키지를 이용한 방법들도 있지만, `keras`에서는 텍스트 처리에 필요한 도구들을 지원\n",
        "* 해당 도구는 자동으로 단어 빈도가 높은 단어의 인덱스는 낮게끔 설정"
      ]
    },
    {
      "cell_type": "code",
      "metadata": {
        "id": "fIqPMClFiMvb",
        "colab": {
          "base_uri": "https://localhost:8080/"
        },
        "outputId": "48d7e560-d52c-4e78-d41f-d8d0af5b8459"
      },
      "source": [
        "from tensorflow.keras.preprocessing.text import Tokenizer\n",
        "\n",
        "text = \"평생 살 것처럼 꿈을 꾸어라. 그리고 내일 죽을 것처럼 오늘을 살아라\"\n",
        "\n",
        "t = Tokenizer()\n",
        "t.fit_on_texts([text])\n",
        "print(t.word_index)\n",
        "\n",
        "encoded = t.texts_to_sequences([text])"
      ],
      "execution_count": 4,
      "outputs": [
        {
          "output_type": "stream",
          "name": "stdout",
          "text": [
            "{'것처럼': 1, '평생': 2, '살': 3, '꿈을': 4, '꾸어라': 5, '그리고': 6, '내일': 7, '죽을': 8, '오늘을': 9, '살아라': 10}\n"
          ]
        }
      ]
    },
    {
      "cell_type": "markdown",
      "metadata": {
        "id": "2TDrAJL-KEt8"
      },
      "source": [
        "### 원 핫 인코딩(One-Hot Encoding)"
      ]
    },
    {
      "cell_type": "markdown",
      "metadata": {
        "id": "2zA6x8FbmeqS"
      },
      "source": [
        "#### 조건문과 반복문을 이용한 원 핫 인코딩"
      ]
    },
    {
      "cell_type": "markdown",
      "metadata": {
        "id": "IKGnvTw7RFf5"
      },
      "source": [
        "* 원 핫 인코딩은 정수 인코딩한 결과를 벡터로 변환한 인코딩\n",
        "* 원 핫 인코딩은 전체 단어 개수 만큼의 길이를 가진 배열에 해당 정수를 가진 위치는 1, 나머지는 0을 가진 벡터로 변환   "
      ]
    },
    {
      "cell_type": "code",
      "metadata": {
        "id": "MlHc9XXERFla",
        "colab": {
          "base_uri": "https://localhost:8080/"
        },
        "outputId": "0e385a97-7203-4da6-956a-0a196ac3a237"
      },
      "source": [
        "import numpy as np\n",
        "\n",
        "one_hot = []\n",
        "for i in range(len(encoded)):\n",
        "  temp = []\n",
        "  max_val = max(max(encoded))\n",
        "  for j in range(max_val):\n",
        "    if j == (encoded[i][0] - 1):\n",
        "      temp.append(1)\n",
        "    else:\n",
        "      temp.append(0)\n",
        "  one_hot.append(temp)\n",
        "\n",
        "  print(np.array(one_hot))"
      ],
      "execution_count": 11,
      "outputs": [
        {
          "output_type": "stream",
          "name": "stdout",
          "text": [
            "[[0 1 0 0 0 0 0 0 0 0]]\n"
          ]
        }
      ]
    },
    {
      "cell_type": "markdown",
      "metadata": {
        "id": "xk_Bna8tmmqS"
      },
      "source": [
        "#### keras를 이용한 원 핫 인코딩"
      ]
    },
    {
      "cell_type": "markdown",
      "metadata": {
        "id": "oxlWLLJfht7i"
      },
      "source": [
        "* `keras`에서는 정수 인코딩을 원 핫 인코딩을 간단하게 변환해주는 `to_categorical()` 함수를 제공"
      ]
    },
    {
      "cell_type": "code",
      "metadata": {
        "id": "xRJ8frWZiMeS",
        "colab": {
          "base_uri": "https://localhost:8080/"
        },
        "outputId": "d051b339-b8fc-43b2-d9ac-976f6d83eb91"
      },
      "source": [
        "from tensorflow.keras.utils import to_categorical\n",
        "\n",
        "one_hot = to_categorical(encoded)\n",
        "\n",
        "one_hot\n"
      ],
      "execution_count": 12,
      "outputs": [
        {
          "output_type": "execute_result",
          "data": {
            "text/plain": [
              "array([[[0., 0., 1., 0., 0., 0., 0., 0., 0., 0., 0.],\n",
              "        [0., 0., 0., 1., 0., 0., 0., 0., 0., 0., 0.],\n",
              "        [0., 1., 0., 0., 0., 0., 0., 0., 0., 0., 0.],\n",
              "        [0., 0., 0., 0., 1., 0., 0., 0., 0., 0., 0.],\n",
              "        [0., 0., 0., 0., 0., 1., 0., 0., 0., 0., 0.],\n",
              "        [0., 0., 0., 0., 0., 0., 1., 0., 0., 0., 0.],\n",
              "        [0., 0., 0., 0., 0., 0., 0., 1., 0., 0., 0.],\n",
              "        [0., 0., 0., 0., 0., 0., 0., 0., 1., 0., 0.],\n",
              "        [0., 1., 0., 0., 0., 0., 0., 0., 0., 0., 0.],\n",
              "        [0., 0., 0., 0., 0., 0., 0., 0., 0., 1., 0.],\n",
              "        [0., 0., 0., 0., 0., 0., 0., 0., 0., 0., 1.]]])"
            ]
          },
          "metadata": {},
          "execution_count": 12
        }
      ]
    },
    {
      "cell_type": "markdown",
      "metadata": {
        "id": "0T4R-JlP2-6k"
      },
      "source": [
        "## IMDB 데이터\n",
        "\n",
        "- 인터넷 영화 데이터베이스(Internet Movie Database)\n",
        "\n",
        "- 양극단의 리뷰 5만개로 이루어진 데이터셋\n",
        "  - 훈련데이터: 25,000개\n",
        "  - 테스트데이터 : 25,000개\n",
        "\n",
        "  <img src=\"https://encrypted-tbn0.gstatic.com/images?q=tbn%3AANd9GcQlk-f2SHB6-Vs3RWwIugMctsyEn2QVZWC5KQ&usqp=CAU\">\n",
        "\n",
        "- https://www.imdb.com/interfaces/"
      ]
    },
    {
      "cell_type": "markdown",
      "metadata": {
        "id": "gxmuXi9L3-O2"
      },
      "source": [
        "### module import"
      ]
    },
    {
      "cell_type": "code",
      "metadata": {
        "id": "XrfsUoGS2EVN"
      },
      "source": [
        "from tensorflow.keras.datasets import imdb\n",
        "from tensorflow.keras.models import Sequential\n",
        "from tensorflow.keras.layers import Embedding, Dense, Flatten"
      ],
      "execution_count": 13,
      "outputs": []
    },
    {
      "cell_type": "markdown",
      "metadata": {
        "id": "YyMXXlpY4Ajz"
      },
      "source": [
        "### 데이터 로드"
      ]
    },
    {
      "cell_type": "code",
      "metadata": {
        "id": "wNnbw2tH2EiP"
      },
      "source": [
        "num_words = 1000\n",
        "max_len = 20\n",
        "\n",
        "(x_train, y_train), (x_test, y_test) = imdb.load_data(num_words=num_words)"
      ],
      "execution_count": 16,
      "outputs": []
    },
    {
      "cell_type": "code",
      "metadata": {
        "id": "OGnkPs_U2Ezk",
        "colab": {
          "base_uri": "https://localhost:8080/"
        },
        "outputId": "b89f0bc4-084e-44ee-f249-8039af2eb1eb"
      },
      "source": [
        "print(x_train.shape)\n",
        "print(y_train.shape)\n",
        "print(x_test.shape)\n",
        "print(y_test.shape)"
      ],
      "execution_count": 17,
      "outputs": [
        {
          "output_type": "stream",
          "name": "stdout",
          "text": [
            "(25000,)\n",
            "(25000,)\n",
            "(25000,)\n",
            "(25000,)\n"
          ]
        }
      ]
    },
    {
      "cell_type": "markdown",
      "metadata": {
        "id": "bvtDvmuX4_JB"
      },
      "source": [
        "### 데이터 확인\n",
        "- 긍정: 1\n",
        "- 부정: 0"
      ]
    },
    {
      "cell_type": "code",
      "metadata": {
        "id": "wFruX-Vp2ExJ",
        "colab": {
          "base_uri": "https://localhost:8080/"
        },
        "outputId": "8bf99cd7-fd07-4ce0-c0ff-154e2d285c16"
      },
      "source": [
        "print(x_train[0])\n",
        "print(y_train[0])"
      ],
      "execution_count": 18,
      "outputs": [
        {
          "output_type": "stream",
          "name": "stdout",
          "text": [
            "[1, 14, 22, 16, 43, 530, 973, 2, 2, 65, 458, 2, 66, 2, 4, 173, 36, 256, 5, 25, 100, 43, 838, 112, 50, 670, 2, 9, 35, 480, 284, 5, 150, 4, 172, 112, 167, 2, 336, 385, 39, 4, 172, 2, 2, 17, 546, 38, 13, 447, 4, 192, 50, 16, 6, 147, 2, 19, 14, 22, 4, 2, 2, 469, 4, 22, 71, 87, 12, 16, 43, 530, 38, 76, 15, 13, 2, 4, 22, 17, 515, 17, 12, 16, 626, 18, 2, 5, 62, 386, 12, 8, 316, 8, 106, 5, 4, 2, 2, 16, 480, 66, 2, 33, 4, 130, 12, 16, 38, 619, 5, 25, 124, 51, 36, 135, 48, 25, 2, 33, 6, 22, 12, 215, 28, 77, 52, 5, 14, 407, 16, 82, 2, 8, 4, 107, 117, 2, 15, 256, 4, 2, 7, 2, 5, 723, 36, 71, 43, 530, 476, 26, 400, 317, 46, 7, 4, 2, 2, 13, 104, 88, 4, 381, 15, 297, 98, 32, 2, 56, 26, 141, 6, 194, 2, 18, 4, 226, 22, 21, 134, 476, 26, 480, 5, 144, 30, 2, 18, 51, 36, 28, 224, 92, 25, 104, 4, 226, 65, 16, 38, 2, 88, 12, 16, 283, 5, 16, 2, 113, 103, 32, 15, 16, 2, 19, 178, 32]\n",
            "1\n"
          ]
        }
      ]
    },
    {
      "cell_type": "code",
      "metadata": {
        "id": "xSZ37jXC5qoj",
        "colab": {
          "base_uri": "https://localhost:8080/"
        },
        "outputId": "9935cc0a-ceda-4556-d247-dfefb71e782e"
      },
      "source": [
        "for i in range(10):\n",
        "  if y_train[i] == 0:\n",
        "    label = \"부정\"\n",
        "  else:\n",
        "    label = \"긍정\"\n",
        "  print(\"{}\\n{}\".format(x_train[i], label))"
      ],
      "execution_count": 19,
      "outputs": [
        {
          "output_type": "stream",
          "name": "stdout",
          "text": [
            "[1, 14, 22, 16, 43, 530, 973, 2, 2, 65, 458, 2, 66, 2, 4, 173, 36, 256, 5, 25, 100, 43, 838, 112, 50, 670, 2, 9, 35, 480, 284, 5, 150, 4, 172, 112, 167, 2, 336, 385, 39, 4, 172, 2, 2, 17, 546, 38, 13, 447, 4, 192, 50, 16, 6, 147, 2, 19, 14, 22, 4, 2, 2, 469, 4, 22, 71, 87, 12, 16, 43, 530, 38, 76, 15, 13, 2, 4, 22, 17, 515, 17, 12, 16, 626, 18, 2, 5, 62, 386, 12, 8, 316, 8, 106, 5, 4, 2, 2, 16, 480, 66, 2, 33, 4, 130, 12, 16, 38, 619, 5, 25, 124, 51, 36, 135, 48, 25, 2, 33, 6, 22, 12, 215, 28, 77, 52, 5, 14, 407, 16, 82, 2, 8, 4, 107, 117, 2, 15, 256, 4, 2, 7, 2, 5, 723, 36, 71, 43, 530, 476, 26, 400, 317, 46, 7, 4, 2, 2, 13, 104, 88, 4, 381, 15, 297, 98, 32, 2, 56, 26, 141, 6, 194, 2, 18, 4, 226, 22, 21, 134, 476, 26, 480, 5, 144, 30, 2, 18, 51, 36, 28, 224, 92, 25, 104, 4, 226, 65, 16, 38, 2, 88, 12, 16, 283, 5, 16, 2, 113, 103, 32, 15, 16, 2, 19, 178, 32]\n",
            "긍정\n",
            "[1, 194, 2, 194, 2, 78, 228, 5, 6, 2, 2, 2, 134, 26, 4, 715, 8, 118, 2, 14, 394, 20, 13, 119, 954, 189, 102, 5, 207, 110, 2, 21, 14, 69, 188, 8, 30, 23, 7, 4, 249, 126, 93, 4, 114, 9, 2, 2, 5, 647, 4, 116, 9, 35, 2, 4, 229, 9, 340, 2, 4, 118, 9, 4, 130, 2, 19, 4, 2, 5, 89, 29, 952, 46, 37, 4, 455, 9, 45, 43, 38, 2, 2, 398, 4, 2, 26, 2, 5, 163, 11, 2, 2, 4, 2, 9, 194, 775, 7, 2, 2, 349, 2, 148, 605, 2, 2, 15, 123, 125, 68, 2, 2, 15, 349, 165, 2, 98, 5, 4, 228, 9, 43, 2, 2, 15, 299, 120, 5, 120, 174, 11, 220, 175, 136, 50, 9, 2, 228, 2, 5, 2, 656, 245, 2, 5, 4, 2, 131, 152, 491, 18, 2, 32, 2, 2, 14, 9, 6, 371, 78, 22, 625, 64, 2, 9, 8, 168, 145, 23, 4, 2, 15, 16, 4, 2, 5, 28, 6, 52, 154, 462, 33, 89, 78, 285, 16, 145, 95]\n",
            "부정\n",
            "[1, 14, 47, 8, 30, 31, 7, 4, 249, 108, 7, 4, 2, 54, 61, 369, 13, 71, 149, 14, 22, 112, 4, 2, 311, 12, 16, 2, 33, 75, 43, 2, 296, 4, 86, 320, 35, 534, 19, 263, 2, 2, 4, 2, 33, 89, 78, 12, 66, 16, 4, 360, 7, 4, 58, 316, 334, 11, 4, 2, 43, 645, 662, 8, 257, 85, 2, 42, 2, 2, 83, 68, 2, 15, 36, 165, 2, 278, 36, 69, 2, 780, 8, 106, 14, 2, 2, 18, 6, 22, 12, 215, 28, 610, 40, 6, 87, 326, 23, 2, 21, 23, 22, 12, 272, 40, 57, 31, 11, 4, 22, 47, 6, 2, 51, 9, 170, 23, 595, 116, 595, 2, 13, 191, 79, 638, 89, 2, 14, 9, 8, 106, 607, 624, 35, 534, 6, 227, 7, 129, 113]\n",
            "부정\n",
            "[1, 4, 2, 2, 33, 2, 4, 2, 432, 111, 153, 103, 4, 2, 13, 70, 131, 67, 11, 61, 2, 744, 35, 2, 761, 61, 2, 452, 2, 4, 985, 7, 2, 59, 166, 4, 105, 216, 2, 41, 2, 9, 15, 7, 35, 744, 2, 31, 8, 4, 687, 23, 4, 2, 2, 6, 2, 42, 38, 39, 121, 59, 456, 10, 10, 7, 265, 12, 575, 111, 153, 159, 59, 16, 2, 21, 25, 586, 482, 39, 4, 96, 59, 716, 12, 4, 172, 65, 9, 579, 11, 2, 4, 2, 5, 2, 7, 2, 17, 13, 2, 12, 19, 6, 464, 31, 314, 11, 2, 6, 719, 605, 11, 8, 202, 27, 310, 4, 2, 2, 8, 2, 58, 10, 10, 537, 2, 180, 40, 14, 413, 173, 7, 263, 112, 37, 152, 377, 4, 537, 263, 846, 579, 178, 54, 75, 71, 476, 36, 413, 263, 2, 182, 5, 17, 75, 2, 922, 36, 279, 131, 2, 17, 2, 42, 17, 35, 921, 2, 192, 5, 2, 2, 19, 2, 217, 2, 2, 537, 2, 2, 5, 736, 10, 10, 61, 403, 9, 2, 40, 61, 2, 5, 27, 2, 159, 90, 263, 2, 2, 309, 8, 178, 5, 82, 2, 4, 65, 15, 2, 145, 143, 2, 12, 2, 537, 746, 537, 537, 15, 2, 4, 2, 594, 7, 2, 94, 2, 2, 2, 11, 2, 4, 538, 7, 2, 246, 2, 9, 2, 11, 635, 14, 9, 51, 408, 12, 94, 318, 2, 12, 47, 6, 2, 936, 5, 2, 2, 19, 49, 7, 4, 2, 2, 2, 25, 80, 126, 842, 10, 10, 2, 2, 2, 27, 2, 11, 2, 2, 159, 27, 341, 29, 2, 19, 2, 173, 7, 90, 2, 8, 30, 11, 4, 2, 86, 2, 8, 2, 46, 11, 2, 21, 29, 9, 2, 23, 4, 2, 2, 793, 6, 2, 2, 2, 10, 10, 246, 50, 9, 6, 2, 2, 746, 90, 29, 2, 8, 124, 4, 882, 4, 882, 496, 27, 2, 2, 537, 121, 127, 2, 130, 5, 29, 494, 8, 124, 4, 882, 496, 4, 341, 7, 27, 846, 10, 10, 29, 9, 2, 8, 97, 6, 236, 2, 2, 8, 4, 2, 7, 31, 7, 2, 91, 2, 2, 70, 4, 882, 30, 579, 42, 9, 12, 32, 11, 537, 10, 10, 11, 14, 65, 44, 537, 75, 2, 2, 2, 2, 2, 4, 2, 7, 154, 5, 4, 518, 53, 2, 2, 7, 2, 882, 11, 399, 38, 75, 257, 2, 19, 2, 17, 29, 456, 4, 65, 7, 27, 205, 113, 10, 10, 2, 4, 2, 2, 9, 242, 4, 91, 2, 2, 5, 2, 307, 22, 7, 2, 126, 93, 40, 2, 13, 188, 2, 2, 19, 4, 2, 7, 2, 537, 23, 53, 537, 21, 82, 40, 2, 13, 2, 14, 280, 13, 219, 4, 2, 431, 758, 859, 4, 953, 2, 2, 7, 2, 5, 94, 40, 25, 238, 60, 2, 4, 2, 804, 2, 7, 4, 2, 132, 8, 67, 6, 22, 15, 9, 283, 8, 2, 14, 31, 9, 242, 955, 48, 25, 279, 2, 23, 12, 2, 195, 25, 238, 60, 796, 2, 4, 671, 7, 2, 5, 4, 559, 154, 888, 7, 726, 50, 26, 49, 2, 15, 566, 30, 579, 21, 64, 2]\n",
            "긍정\n",
            "[1, 249, 2, 7, 61, 113, 10, 10, 13, 2, 14, 20, 56, 33, 2, 18, 457, 88, 13, 2, 2, 45, 2, 13, 70, 79, 49, 706, 919, 13, 16, 355, 340, 355, 2, 96, 143, 4, 22, 32, 289, 7, 61, 369, 71, 2, 5, 13, 16, 131, 2, 249, 114, 249, 229, 249, 20, 13, 28, 126, 110, 13, 473, 8, 569, 61, 419, 56, 429, 6, 2, 18, 35, 534, 95, 474, 570, 5, 25, 124, 138, 88, 12, 421, 2, 52, 725, 2, 61, 419, 11, 13, 2, 15, 2, 20, 11, 4, 2, 5, 296, 12, 2, 5, 15, 421, 128, 74, 233, 334, 207, 126, 224, 12, 562, 298, 2, 2, 7, 2, 5, 516, 988, 43, 8, 79, 120, 15, 595, 13, 784, 25, 2, 18, 165, 170, 143, 19, 14, 5, 2, 6, 226, 251, 7, 61, 113]\n",
            "부정\n",
            "[1, 778, 128, 74, 12, 630, 163, 15, 4, 2, 2, 2, 2, 32, 85, 156, 45, 40, 148, 139, 121, 664, 665, 10, 10, 2, 173, 4, 749, 2, 16, 2, 8, 4, 226, 65, 12, 43, 127, 24, 2, 10, 10]\n",
            "부정\n",
            "[1, 2, 365, 2, 5, 2, 354, 11, 14, 2, 2, 7, 2, 2, 2, 356, 44, 4, 2, 500, 746, 5, 200, 4, 2, 11, 2, 2, 2, 2, 2, 5, 2, 26, 6, 2, 2, 17, 369, 37, 215, 2, 143, 2, 5, 2, 8, 2, 15, 36, 119, 257, 85, 52, 486, 9, 6, 2, 2, 63, 271, 6, 196, 96, 949, 2, 4, 2, 7, 4, 2, 2, 819, 63, 47, 77, 2, 180, 6, 227, 11, 94, 2, 2, 13, 423, 4, 168, 7, 4, 22, 5, 89, 665, 71, 270, 56, 5, 13, 197, 12, 161, 2, 99, 76, 23, 2, 7, 419, 665, 40, 91, 85, 108, 7, 4, 2, 5, 2, 81, 55, 52, 2]\n",
            "긍정\n",
            "[1, 4, 2, 716, 4, 65, 7, 4, 689, 2, 2, 2, 2, 2, 2, 2, 2, 2, 2, 2, 2, 2, 4, 2, 628, 2, 37, 9, 150, 4, 2, 2, 11, 2, 4, 2, 847, 313, 6, 176, 2, 9, 2, 138, 9, 2, 19, 4, 96, 183, 26, 4, 192, 15, 27, 2, 799, 2, 2, 588, 84, 11, 4, 2, 152, 339, 2, 42, 2, 2, 2, 345, 2, 2, 142, 43, 218, 208, 54, 29, 853, 659, 46, 4, 882, 183, 80, 115, 30, 4, 172, 174, 10, 10, 2, 398, 2, 2, 526, 34, 2, 2, 2, 2, 17, 4, 2, 2, 871, 64, 85, 22, 2, 2, 38, 230, 9, 4, 2, 2, 251, 2, 2, 195, 301, 14, 16, 31, 7, 4, 2, 8, 783, 2, 33, 4, 2, 103, 465, 2, 42, 845, 45, 446, 11, 2, 19, 184, 76, 32, 4, 2, 207, 110, 13, 197, 4, 2, 16, 601, 964, 2, 595, 13, 258, 4, 2, 66, 338, 55, 2, 4, 550, 728, 65, 2, 8, 2, 61, 2, 42, 2, 61, 602, 120, 45, 2, 6, 320, 786, 99, 196, 2, 786, 2, 4, 225, 4, 373, 2, 33, 4, 130, 63, 69, 72, 2, 46, 2, 225, 14, 66, 194, 2, 2, 56, 8, 803, 2, 6, 2, 155, 11, 4, 2, 2, 45, 853, 2, 8, 30, 6, 117, 430, 19, 6, 2, 9, 15, 66, 424, 8, 2, 178, 9, 15, 66, 424, 8, 2, 178, 9, 15, 66, 142, 15, 9, 424, 8, 28, 178, 662, 44, 12, 17, 4, 130, 898, 2, 9, 6, 2, 267, 185, 430, 4, 118, 2, 277, 15, 4, 2, 100, 216, 56, 19, 4, 357, 114, 2, 367, 45, 115, 93, 788, 121, 4, 2, 79, 32, 68, 278, 39, 8, 818, 162, 2, 237, 600, 7, 98, 306, 8, 157, 549, 628, 11, 6, 2, 13, 824, 15, 2, 76, 42, 138, 36, 774, 77, 2, 159, 150, 4, 229, 497, 8, 2, 11, 175, 251, 453, 19, 2, 189, 12, 43, 127, 6, 394, 292, 7, 2, 4, 107, 8, 4, 2, 15, 2, 2, 9, 906, 42, 2, 6, 66, 78, 22, 15, 13, 244, 2, 8, 135, 233, 52, 44, 10, 10, 466, 112, 398, 526, 34, 4, 2, 2, 2, 2, 225, 57, 599, 133, 225, 6, 227, 7, 541, 2, 6, 171, 139, 7, 539, 2, 56, 11, 6, 2, 21, 164, 25, 426, 81, 33, 344, 624, 19, 6, 2, 7, 2, 2, 6, 2, 4, 22, 9, 2, 629, 237, 45, 188, 6, 55, 655, 707, 2, 956, 225, 2, 841, 42, 2, 225, 6, 2, 2, 2, 2, 21, 4, 2, 9, 364, 23, 4, 2, 2, 225, 24, 76, 133, 18, 4, 189, 2, 10, 10, 814, 11, 2, 11, 2, 14, 47, 15, 682, 364, 352, 168, 44, 12, 45, 24, 913, 93, 21, 247, 2, 4, 116, 34, 35, 2, 8, 72, 177, 9, 164, 8, 901, 344, 44, 13, 191, 135, 13, 126, 421, 233, 18, 259, 10, 10, 4, 2, 2, 4, 2, 2, 7, 112, 199, 753, 357, 39, 63, 12, 115, 2, 763, 8, 15, 35, 2, 2, 65, 57, 599, 6, 2, 277, 2, 37, 25, 92, 202, 6, 2, 44, 25, 28, 6, 22, 15, 122, 24, 2, 72, 33, 32]\n",
            "부정\n",
            "[1, 43, 188, 46, 5, 566, 264, 51, 6, 530, 664, 14, 9, 2, 81, 25, 2, 46, 7, 6, 20, 750, 11, 141, 2, 5, 2, 2, 102, 28, 413, 38, 120, 2, 15, 4, 2, 7, 2, 142, 371, 318, 5, 955, 2, 571, 2, 2, 122, 14, 8, 72, 54, 12, 86, 385, 46, 5, 14, 20, 9, 399, 8, 72, 150, 13, 161, 124, 6, 155, 44, 14, 159, 170, 83, 12, 5, 51, 6, 866, 48, 25, 842, 4, 2, 25, 238, 79, 4, 547, 15, 14, 9, 31, 7, 148, 2, 102, 44, 35, 480, 2, 2, 19, 120, 4, 350, 228, 5, 269, 8, 28, 178, 2, 2, 7, 51, 6, 87, 65, 12, 9, 979, 21, 95, 24, 2, 178, 11, 2, 14, 9, 24, 15, 20, 4, 84, 376, 4, 65, 14, 127, 141, 6, 52, 292, 7, 2, 175, 561, 7, 68, 2, 137, 75, 2, 68, 182, 5, 235, 175, 333, 19, 98, 50, 9, 38, 76, 724, 4, 2, 15, 166, 285, 36, 140, 143, 38, 76, 53, 2, 2, 4, 2, 16, 82, 6, 87, 2, 44, 2, 2, 5, 800, 4, 2, 11, 35, 2, 96, 21, 14, 22, 9, 76, 53, 7, 6, 406, 65, 13, 43, 219, 12, 639, 21, 13, 80, 140, 5, 135, 15, 14, 9, 31, 7, 4, 118, 2, 13, 28, 126, 110]\n",
            "긍정\n",
            "[1, 14, 20, 47, 111, 439, 2, 19, 12, 15, 166, 12, 216, 125, 40, 6, 364, 352, 707, 2, 39, 294, 11, 22, 396, 13, 28, 8, 202, 12, 2, 23, 94, 2, 151, 111, 211, 469, 4, 20, 13, 258, 546, 2, 2, 12, 16, 38, 78, 33, 211, 15, 12, 16, 2, 63, 93, 12, 6, 253, 106, 10, 10, 48, 335, 267, 18, 6, 364, 2, 2, 20, 19, 6, 2, 7, 2, 189, 5, 6, 2, 7, 2, 2, 95, 2, 6, 2, 7, 2, 2, 49, 369, 120, 5, 28, 49, 253, 10, 10, 13, 2, 19, 85, 795, 15, 4, 481, 9, 55, 78, 807, 9, 375, 8, 2, 8, 794, 76, 7, 4, 58, 5, 4, 816, 9, 243, 7, 43, 50]\n",
            "부정\n"
          ]
        }
      ]
    },
    {
      "cell_type": "markdown",
      "metadata": {
        "id": "izJKnVgY7NWl"
      },
      "source": [
        "### 데이터 전처리\n",
        "- 모든 데이터를 같은 길이로 맞추기\n",
        "\n",
        "  - `pad_sequence()`\n",
        "    - 데이터가 maxlen보다 길면 데이터를 자름\n",
        "\n",
        "    - 데이터가 길면 `padding` 설정\n",
        "      - `pre`: 데이터 앞에 0으로 채움\n",
        "      -  `post`: 데이터 뒤에 0으로 채움\n",
        "\n",
        "\n",
        "- 모든 데이터(문장 하나하나)가 같은 길이로 맞추어야 `Embedding` 레이어를 사용할 수 있음"
      ]
    },
    {
      "cell_type": "code",
      "metadata": {
        "id": "oAF2ZRV32Eup"
      },
      "source": [
        "from tensorflow.keras.preprocessing.sequence import pad_sequences"
      ],
      "execution_count": 20,
      "outputs": []
    },
    {
      "cell_type": "code",
      "metadata": {
        "id": "NOEVDkuD2EqT"
      },
      "source": [
        "max_len = 100\n",
        "\n",
        "pad_x_train = pad_sequences(x_train, maxlen=max_len, padding='pre')\n",
        "pad_x_test = pad_sequences(x_test, maxlen=max_len, padding='pre')"
      ],
      "execution_count": 21,
      "outputs": []
    },
    {
      "cell_type": "code",
      "metadata": {
        "id": "nwpMCUb92Eoe",
        "colab": {
          "base_uri": "https://localhost:8080/"
        },
        "outputId": "78c81256-167a-45da-a458-c2c0611fe80b"
      },
      "source": [
        "print(len(x_train[0]))\n",
        "print(len(pad_x_train[0]))"
      ],
      "execution_count": 22,
      "outputs": [
        {
          "output_type": "stream",
          "name": "stdout",
          "text": [
            "218\n",
            "100\n"
          ]
        }
      ]
    },
    {
      "cell_type": "code",
      "metadata": {
        "id": "RF9sFjn62El8",
        "colab": {
          "base_uri": "https://localhost:8080/"
        },
        "outputId": "7ddfc4b2-e68a-4cc4-e1b1-19ebc110beab"
      },
      "source": [
        "print(x_train[0])\n",
        "print(pad_x_train[0])"
      ],
      "execution_count": 23,
      "outputs": [
        {
          "output_type": "stream",
          "name": "stdout",
          "text": [
            "[1, 14, 22, 16, 43, 530, 973, 2, 2, 65, 458, 2, 66, 2, 4, 173, 36, 256, 5, 25, 100, 43, 838, 112, 50, 670, 2, 9, 35, 480, 284, 5, 150, 4, 172, 112, 167, 2, 336, 385, 39, 4, 172, 2, 2, 17, 546, 38, 13, 447, 4, 192, 50, 16, 6, 147, 2, 19, 14, 22, 4, 2, 2, 469, 4, 22, 71, 87, 12, 16, 43, 530, 38, 76, 15, 13, 2, 4, 22, 17, 515, 17, 12, 16, 626, 18, 2, 5, 62, 386, 12, 8, 316, 8, 106, 5, 4, 2, 2, 16, 480, 66, 2, 33, 4, 130, 12, 16, 38, 619, 5, 25, 124, 51, 36, 135, 48, 25, 2, 33, 6, 22, 12, 215, 28, 77, 52, 5, 14, 407, 16, 82, 2, 8, 4, 107, 117, 2, 15, 256, 4, 2, 7, 2, 5, 723, 36, 71, 43, 530, 476, 26, 400, 317, 46, 7, 4, 2, 2, 13, 104, 88, 4, 381, 15, 297, 98, 32, 2, 56, 26, 141, 6, 194, 2, 18, 4, 226, 22, 21, 134, 476, 26, 480, 5, 144, 30, 2, 18, 51, 36, 28, 224, 92, 25, 104, 4, 226, 65, 16, 38, 2, 88, 12, 16, 283, 5, 16, 2, 113, 103, 32, 15, 16, 2, 19, 178, 32]\n",
            "[  2  33   6  22  12 215  28  77  52   5  14 407  16  82   2   8   4 107\n",
            " 117   2  15 256   4   2   7   2   5 723  36  71  43 530 476  26 400 317\n",
            "  46   7   4   2   2  13 104  88   4 381  15 297  98  32   2  56  26 141\n",
            "   6 194   2  18   4 226  22  21 134 476  26 480   5 144  30   2  18  51\n",
            "  36  28 224  92  25 104   4 226  65  16  38   2  88  12  16 283   5  16\n",
            "   2 113 103  32  15  16   2  19 178  32]\n"
          ]
        }
      ]
    },
    {
      "cell_type": "markdown",
      "metadata": {
        "id": "iVSjFumg-TBt"
      },
      "source": [
        "### 모델 구성"
      ]
    },
    {
      "cell_type": "code",
      "metadata": {
        "id": "Blq1UZP92Ed4",
        "colab": {
          "base_uri": "https://localhost:8080/",
          "height": 261
        },
        "outputId": "cb0fbbde-6a1e-46c9-97a7-6768fc11b437"
      },
      "source": [
        "from tensorflow.keras.models import Sequential\n",
        "from tensorflow.keras.layers import Embedding, Flatten, Dense\n",
        "\n",
        "num_words = 1000   # 사전 크기\n",
        "max_len = 100      # 문장 최대 길이\n",
        "\n",
        "model = Sequential()\n",
        "# Embedding 층 추가\n",
        "model.add(Embedding(input_dim=num_words, output_dim=32, input_length=max_len))\n",
        "\n",
        "# Flatten 층 추가\n",
        "model.add(Flatten())\n",
        "\n",
        "# Dense 층 추가\n",
        "model.add(Dense(1, activation='sigmoid'))\n",
        "\n",
        "# 모델 빌드\n",
        "model.build(input_shape=(None, max_len))\n",
        "\n",
        "# 모델 요약 출력\n",
        "model.summary()"
      ],
      "execution_count": 27,
      "outputs": [
        {
          "output_type": "stream",
          "name": "stderr",
          "text": [
            "/usr/local/lib/python3.10/dist-packages/keras/src/layers/core/embedding.py:90: UserWarning: Argument `input_length` is deprecated. Just remove it.\n",
            "  warnings.warn(\n"
          ]
        },
        {
          "output_type": "display_data",
          "data": {
            "text/plain": [
              "\u001b[1mModel: \"sequential_3\"\u001b[0m\n"
            ],
            "text/html": [
              "<pre style=\"white-space:pre;overflow-x:auto;line-height:normal;font-family:Menlo,'DejaVu Sans Mono',consolas,'Courier New',monospace\"><span style=\"font-weight: bold\">Model: \"sequential_3\"</span>\n",
              "</pre>\n"
            ]
          },
          "metadata": {}
        },
        {
          "output_type": "display_data",
          "data": {
            "text/plain": [
              "┏━━━━━━━━━━━━━━━━━━━━━━━━━━━━━━━━━━━━━━┳━━━━━━━━━━━━━━━━━━━━━━━━━━━━━┳━━━━━━━━━━━━━━━━━┓\n",
              "┃\u001b[1m \u001b[0m\u001b[1mLayer (type)                        \u001b[0m\u001b[1m \u001b[0m┃\u001b[1m \u001b[0m\u001b[1mOutput Shape               \u001b[0m\u001b[1m \u001b[0m┃\u001b[1m \u001b[0m\u001b[1m        Param #\u001b[0m\u001b[1m \u001b[0m┃\n",
              "┡━━━━━━━━━━━━━━━━━━━━━━━━━━━━━━━━━━━━━━╇━━━━━━━━━━━━━━━━━━━━━━━━━━━━━╇━━━━━━━━━━━━━━━━━┩\n",
              "│ embedding_3 (\u001b[38;5;33mEmbedding\u001b[0m)              │ (\u001b[38;5;45mNone\u001b[0m, \u001b[38;5;34m100\u001b[0m, \u001b[38;5;34m32\u001b[0m)             │          \u001b[38;5;34m32,000\u001b[0m │\n",
              "├──────────────────────────────────────┼─────────────────────────────┼─────────────────┤\n",
              "│ flatten_3 (\u001b[38;5;33mFlatten\u001b[0m)                  │ (\u001b[38;5;45mNone\u001b[0m, \u001b[38;5;34m3200\u001b[0m)                │               \u001b[38;5;34m0\u001b[0m │\n",
              "├──────────────────────────────────────┼─────────────────────────────┼─────────────────┤\n",
              "│ dense_3 (\u001b[38;5;33mDense\u001b[0m)                      │ (\u001b[38;5;45mNone\u001b[0m, \u001b[38;5;34m1\u001b[0m)                   │           \u001b[38;5;34m3,201\u001b[0m │\n",
              "└──────────────────────────────────────┴─────────────────────────────┴─────────────────┘\n"
            ],
            "text/html": [
              "<pre style=\"white-space:pre;overflow-x:auto;line-height:normal;font-family:Menlo,'DejaVu Sans Mono',consolas,'Courier New',monospace\">┏━━━━━━━━━━━━━━━━━━━━━━━━━━━━━━━━━━━━━━┳━━━━━━━━━━━━━━━━━━━━━━━━━━━━━┳━━━━━━━━━━━━━━━━━┓\n",
              "┃<span style=\"font-weight: bold\"> Layer (type)                         </span>┃<span style=\"font-weight: bold\"> Output Shape                </span>┃<span style=\"font-weight: bold\">         Param # </span>┃\n",
              "┡━━━━━━━━━━━━━━━━━━━━━━━━━━━━━━━━━━━━━━╇━━━━━━━━━━━━━━━━━━━━━━━━━━━━━╇━━━━━━━━━━━━━━━━━┩\n",
              "│ embedding_3 (<span style=\"color: #0087ff; text-decoration-color: #0087ff\">Embedding</span>)              │ (<span style=\"color: #00d7ff; text-decoration-color: #00d7ff\">None</span>, <span style=\"color: #00af00; text-decoration-color: #00af00\">100</span>, <span style=\"color: #00af00; text-decoration-color: #00af00\">32</span>)             │          <span style=\"color: #00af00; text-decoration-color: #00af00\">32,000</span> │\n",
              "├──────────────────────────────────────┼─────────────────────────────┼─────────────────┤\n",
              "│ flatten_3 (<span style=\"color: #0087ff; text-decoration-color: #0087ff\">Flatten</span>)                  │ (<span style=\"color: #00d7ff; text-decoration-color: #00d7ff\">None</span>, <span style=\"color: #00af00; text-decoration-color: #00af00\">3200</span>)                │               <span style=\"color: #00af00; text-decoration-color: #00af00\">0</span> │\n",
              "├──────────────────────────────────────┼─────────────────────────────┼─────────────────┤\n",
              "│ dense_3 (<span style=\"color: #0087ff; text-decoration-color: #0087ff\">Dense</span>)                      │ (<span style=\"color: #00d7ff; text-decoration-color: #00d7ff\">None</span>, <span style=\"color: #00af00; text-decoration-color: #00af00\">1</span>)                   │           <span style=\"color: #00af00; text-decoration-color: #00af00\">3,201</span> │\n",
              "└──────────────────────────────────────┴─────────────────────────────┴─────────────────┘\n",
              "</pre>\n"
            ]
          },
          "metadata": {}
        },
        {
          "output_type": "display_data",
          "data": {
            "text/plain": [
              "\u001b[1m Total params: \u001b[0m\u001b[38;5;34m35,201\u001b[0m (137.50 KB)\n"
            ],
            "text/html": [
              "<pre style=\"white-space:pre;overflow-x:auto;line-height:normal;font-family:Menlo,'DejaVu Sans Mono',consolas,'Courier New',monospace\"><span style=\"font-weight: bold\"> Total params: </span><span style=\"color: #00af00; text-decoration-color: #00af00\">35,201</span> (137.50 KB)\n",
              "</pre>\n"
            ]
          },
          "metadata": {}
        },
        {
          "output_type": "display_data",
          "data": {
            "text/plain": [
              "\u001b[1m Trainable params: \u001b[0m\u001b[38;5;34m35,201\u001b[0m (137.50 KB)\n"
            ],
            "text/html": [
              "<pre style=\"white-space:pre;overflow-x:auto;line-height:normal;font-family:Menlo,'DejaVu Sans Mono',consolas,'Courier New',monospace\"><span style=\"font-weight: bold\"> Trainable params: </span><span style=\"color: #00af00; text-decoration-color: #00af00\">35,201</span> (137.50 KB)\n",
              "</pre>\n"
            ]
          },
          "metadata": {}
        },
        {
          "output_type": "display_data",
          "data": {
            "text/plain": [
              "\u001b[1m Non-trainable params: \u001b[0m\u001b[38;5;34m0\u001b[0m (0.00 B)\n"
            ],
            "text/html": [
              "<pre style=\"white-space:pre;overflow-x:auto;line-height:normal;font-family:Menlo,'DejaVu Sans Mono',consolas,'Courier New',monospace\"><span style=\"font-weight: bold\"> Non-trainable params: </span><span style=\"color: #00af00; text-decoration-color: #00af00\">0</span> (0.00 B)\n",
              "</pre>\n"
            ]
          },
          "metadata": {}
        }
      ]
    },
    {
      "cell_type": "markdown",
      "metadata": {
        "id": "H1VqPWEa-m9i"
      },
      "source": [
        "### 모델 컴파일 및 학습"
      ]
    },
    {
      "cell_type": "code",
      "metadata": {
        "id": "CEXe_6de2EcK"
      },
      "source": [
        "model.compile(optimizer='rmsprop',\n",
        "              loss='binary_crossentropy',\n",
        "              metrics=['acc'])"
      ],
      "execution_count": 28,
      "outputs": []
    },
    {
      "cell_type": "code",
      "metadata": {
        "id": "Xr3pegjQ2Eal",
        "colab": {
          "base_uri": "https://localhost:8080/"
        },
        "outputId": "6403ffa4-757f-46ec-fdaa-98de3235c03a"
      },
      "source": [
        "history = model.fit(pad_x_train, y_train,\n",
        "                    epochs=10,\n",
        "                    batch_size=32,\n",
        "                    validation_split=0.2)"
      ],
      "execution_count": 29,
      "outputs": [
        {
          "output_type": "stream",
          "name": "stdout",
          "text": [
            "Epoch 1/10\n",
            "\u001b[1m625/625\u001b[0m \u001b[32m━━━━━━━━━━━━━━━━━━━━\u001b[0m\u001b[37m\u001b[0m \u001b[1m4s\u001b[0m 4ms/step - acc: 0.5988 - loss: 0.6540 - val_acc: 0.7908 - val_loss: 0.4463\n",
            "Epoch 2/10\n",
            "\u001b[1m625/625\u001b[0m \u001b[32m━━━━━━━━━━━━━━━━━━━━\u001b[0m\u001b[37m\u001b[0m \u001b[1m3s\u001b[0m 3ms/step - acc: 0.8182 - loss: 0.3994 - val_acc: 0.8162 - val_loss: 0.3933\n",
            "Epoch 3/10\n",
            "\u001b[1m625/625\u001b[0m \u001b[32m━━━━━━━━━━━━━━━━━━━━\u001b[0m\u001b[37m\u001b[0m \u001b[1m2s\u001b[0m 3ms/step - acc: 0.8494 - loss: 0.3431 - val_acc: 0.8250 - val_loss: 0.3840\n",
            "Epoch 4/10\n",
            "\u001b[1m625/625\u001b[0m \u001b[32m━━━━━━━━━━━━━━━━━━━━\u001b[0m\u001b[37m\u001b[0m \u001b[1m2s\u001b[0m 3ms/step - acc: 0.8711 - loss: 0.3083 - val_acc: 0.8198 - val_loss: 0.3954\n",
            "Epoch 5/10\n",
            "\u001b[1m625/625\u001b[0m \u001b[32m━━━━━━━━━━━━━━━━━━━━\u001b[0m\u001b[37m\u001b[0m \u001b[1m3s\u001b[0m 3ms/step - acc: 0.8873 - loss: 0.2753 - val_acc: 0.8180 - val_loss: 0.4036\n",
            "Epoch 6/10\n",
            "\u001b[1m625/625\u001b[0m \u001b[32m━━━━━━━━━━━━━━━━━━━━\u001b[0m\u001b[37m\u001b[0m \u001b[1m2s\u001b[0m 2ms/step - acc: 0.9058 - loss: 0.2371 - val_acc: 0.8098 - val_loss: 0.4253\n",
            "Epoch 7/10\n",
            "\u001b[1m625/625\u001b[0m \u001b[32m━━━━━━━━━━━━━━━━━━━━\u001b[0m\u001b[37m\u001b[0m \u001b[1m2s\u001b[0m 2ms/step - acc: 0.9317 - loss: 0.2009 - val_acc: 0.8078 - val_loss: 0.4349\n",
            "Epoch 8/10\n",
            "\u001b[1m625/625\u001b[0m \u001b[32m━━━━━━━━━━━━━━━━━━━━\u001b[0m\u001b[37m\u001b[0m \u001b[1m2s\u001b[0m 3ms/step - acc: 0.9475 - loss: 0.1679 - val_acc: 0.8034 - val_loss: 0.4528\n",
            "Epoch 9/10\n",
            "\u001b[1m625/625\u001b[0m \u001b[32m━━━━━━━━━━━━━━━━━━━━\u001b[0m\u001b[37m\u001b[0m \u001b[1m3s\u001b[0m 4ms/step - acc: 0.9608 - loss: 0.1386 - val_acc: 0.7994 - val_loss: 0.4853\n",
            "Epoch 10/10\n",
            "\u001b[1m625/625\u001b[0m \u001b[32m━━━━━━━━━━━━━━━━━━━━\u001b[0m\u001b[37m\u001b[0m \u001b[1m2s\u001b[0m 3ms/step - acc: 0.9700 - loss: 0.1173 - val_acc: 0.7960 - val_loss: 0.5135\n"
          ]
        }
      ]
    },
    {
      "cell_type": "markdown",
      "metadata": {
        "id": "-gNKkWKP_3c0"
      },
      "source": [
        "### 시각화"
      ]
    },
    {
      "cell_type": "code",
      "metadata": {
        "id": "PYKPQO1B_-EJ"
      },
      "source": [
        "import matplotlib.pyplot as plt\n",
        "plt.style.use('seaborn-v0_8-whitegrid')"
      ],
      "execution_count": 31,
      "outputs": []
    },
    {
      "cell_type": "code",
      "metadata": {
        "id": "vMP67mYsAQ9q",
        "colab": {
          "base_uri": "https://localhost:8080/"
        },
        "outputId": "b899181e-5685-4431-e181-69a1a95ac4d9"
      },
      "source": [
        "hist_dict = history.history\n",
        "hist_dict.keys()"
      ],
      "execution_count": 32,
      "outputs": [
        {
          "output_type": "execute_result",
          "data": {
            "text/plain": [
              "dict_keys(['acc', 'loss', 'val_acc', 'val_loss'])"
            ]
          },
          "metadata": {},
          "execution_count": 32
        }
      ]
    },
    {
      "cell_type": "code",
      "metadata": {
        "id": "d_EjuJva_4YP",
        "colab": {
          "base_uri": "https://localhost:8080/",
          "height": 835
        },
        "outputId": "a7ac31b7-ae80-4295-a9f3-2e6971012e9b"
      },
      "source": [
        "plt.plot(hist_dict['loss'], 'b-', label='Train Loss')\n",
        "plt.plot(hist_dict['val_loss'], 'r:', label='Validation Loss')\n",
        "plt.legend()\n",
        "plt.grid()\n",
        "\n",
        "plt.figure()\n",
        "plt.plot(hist_dict['acc'], 'b-', label='Train Accuracy')\n",
        "plt.plot(hist_dict['val_acc'], 'r:', label='Validation Loss')\n",
        "plt.legend()\n",
        "plt.grid()\n"
      ],
      "execution_count": 36,
      "outputs": [
        {
          "output_type": "display_data",
          "data": {
            "text/plain": [
              "<Figure size 640x480 with 1 Axes>"
            ],
            "image/png": "[encoded data removed]"
          },
          "metadata": {}
        },
        {
          "output_type": "display_data",
          "data": {
            "text/plain": [
              "<Figure size 640x480 with 1 Axes>"
            ],
            "image/png": "[encoded data removed]"
          },
          "metadata": {}
        }
      ]
    },
    {
      "cell_type": "markdown",
      "metadata": {
        "id": "3GtELilA_avO"
      },
      "source": [
        "### 모델 평가"
      ]
    },
    {
      "cell_type": "code",
      "metadata": {
        "id": "_U0Dz9je2ESh",
        "colab": {
          "base_uri": "https://localhost:8080/"
        },
        "outputId": "622a7481-6224-42e1-c755-cc9b25b689c0"
      },
      "source": [
        "model.evaluate(pad_x_test,y_test)"
      ],
      "execution_count": 37,
      "outputs": [
        {
          "output_type": "stream",
          "name": "stdout",
          "text": [
            "\u001b[1m782/782\u001b[0m \u001b[32m━━━━━━━━━━━━━━━━━━━━\u001b[0m\u001b[37m\u001b[0m \u001b[1m1s\u001b[0m 2ms/step - acc: 0.7910 - loss: 0.5073\n"
          ]
        },
        {
          "output_type": "execute_result",
          "data": {
            "text/plain": [
              "[0.5031387209892273, 0.7996000051498413]"
            ]
          },
          "metadata": {},
          "execution_count": 37
        }
      ]
    },
    {
      "cell_type": "markdown",
      "metadata": {
        "id": "6aJqudd0AwGa"
      },
      "source": [
        "### 단어의 수를 늘린 후 재학습"
      ]
    },
    {
      "cell_type": "code",
      "metadata": {
        "id": "C1itQHMDA1hn"
      },
      "source": [
        "num_words = 2000\n",
        "max_len = 400\n",
        "\n",
        "(x_train, y_train), (x_test, y_test) = imdb.load_data(num_words=num_words)\n",
        "\n",
        "pad_x_train_2 = pad_sequences(x_train, maxlen=max_len, padding='pre')\n",
        "pad_x_test_2 = pad_sequences(x_test, maxlen=max_len, padding='pre')"
      ],
      "execution_count": 41,
      "outputs": []
    },
    {
      "cell_type": "markdown",
      "metadata": {
        "id": "e2WL_yueBibH"
      },
      "source": [
        "데이터 확인"
      ]
    },
    {
      "cell_type": "code",
      "metadata": {
        "id": "AydBwyBMA1ku",
        "colab": {
          "base_uri": "https://localhost:8080/"
        },
        "outputId": "f00a2500-b82b-4518-9c6a-ef8a6434b24b"
      },
      "source": [
        "print(x_train[0])\n",
        "print(pad_x_train_2[0])"
      ],
      "execution_count": 43,
      "outputs": [
        {
          "output_type": "stream",
          "name": "stdout",
          "text": [
            "[1, 14, 22, 16, 43, 530, 973, 1622, 1385, 65, 458, 2, 66, 2, 4, 173, 36, 256, 5, 25, 100, 43, 838, 112, 50, 670, 2, 9, 35, 480, 284, 5, 150, 4, 172, 112, 167, 2, 336, 385, 39, 4, 172, 2, 1111, 17, 546, 38, 13, 447, 4, 192, 50, 16, 6, 147, 2, 19, 14, 22, 4, 1920, 2, 469, 4, 22, 71, 87, 12, 16, 43, 530, 38, 76, 15, 13, 1247, 4, 22, 17, 515, 17, 12, 16, 626, 18, 2, 5, 62, 386, 12, 8, 316, 8, 106, 5, 4, 2, 2, 16, 480, 66, 2, 33, 4, 130, 12, 16, 38, 619, 5, 25, 124, 51, 36, 135, 48, 25, 1415, 33, 6, 22, 12, 215, 28, 77, 52, 5, 14, 407, 16, 82, 2, 8, 4, 107, 117, 2, 15, 256, 4, 2, 7, 2, 5, 723, 36, 71, 43, 530, 476, 26, 400, 317, 46, 7, 4, 2, 1029, 13, 104, 88, 4, 381, 15, 297, 98, 32, 2, 56, 26, 141, 6, 194, 2, 18, 4, 226, 22, 21, 134, 476, 26, 480, 5, 144, 30, 2, 18, 51, 36, 28, 224, 92, 25, 104, 4, 226, 65, 16, 38, 1334, 88, 12, 16, 283, 5, 16, 2, 113, 103, 32, 15, 16, 2, 19, 178, 32]\n",
            "[   0    0    0    0    0    0    0    0    0    0    0    0    0    0\n",
            "    0    0    0    0    0    0    0    0    0    0    0    0    0    0\n",
            "    0    0    0    0    0    0    0    0    0    0    0    0    0    0\n",
            "    0    0    0    0    0    0    0    0    0    0    0    0    0    0\n",
            "    0    0    0    0    0    0    0    0    0    0    0    0    0    0\n",
            "    0    0    0    0    0    0    0    0    0    0    0    0    0    0\n",
            "    0    0    0    0    0    0    0    0    0    0    0    0    0    0\n",
            "    0    0    0    0    0    0    0    0    0    0    0    0    0    0\n",
            "    0    0    0    0    0    0    0    0    0    0    0    0    0    0\n",
            "    0    0    0    0    0    0    0    0    0    0    0    0    0    0\n",
            "    0    0    0    0    0    0    0    0    0    0    0    0    0    0\n",
            "    0    0    0    0    0    0    0    0    0    0    0    0    0    0\n",
            "    0    0    0    0    0    0    0    0    0    0    0    0    0    0\n",
            "    1   14   22   16   43  530  973 1622 1385   65  458    2   66    2\n",
            "    4  173   36  256    5   25  100   43  838  112   50  670    2    9\n",
            "   35  480  284    5  150    4  172  112  167    2  336  385   39    4\n",
            "  172    2 1111   17  546   38   13  447    4  192   50   16    6  147\n",
            "    2   19   14   22    4 1920    2  469    4   22   71   87   12   16\n",
            "   43  530   38   76   15   13 1247    4   22   17  515   17   12   16\n",
            "  626   18    2    5   62  386   12    8  316    8  106    5    4    2\n",
            "    2   16  480   66    2   33    4  130   12   16   38  619    5   25\n",
            "  124   51   36  135   48   25 1415   33    6   22   12  215   28   77\n",
            "   52    5   14  407   16   82    2    8    4  107  117    2   15  256\n",
            "    4    2    7    2    5  723   36   71   43  530  476   26  400  317\n",
            "   46    7    4    2 1029   13  104   88    4  381   15  297   98   32\n",
            "    2   56   26  141    6  194    2   18    4  226   22   21  134  476\n",
            "   26  480    5  144   30    2   18   51   36   28  224   92   25  104\n",
            "    4  226   65   16   38 1334   88   12   16  283    5   16    2  113\n",
            "  103   32   15   16    2   19  178   32]\n"
          ]
        }
      ]
    },
    {
      "cell_type": "code",
      "metadata": {
        "id": "mK2kQxNUA1eB",
        "colab": {
          "base_uri": "https://localhost:8080/",
          "height": 261
        },
        "outputId": "07934c24-391f-4912-b170-2a3651735b9c"
      },
      "source": [
        "model = Sequential()\n",
        "# Embedding 층 추가\n",
        "model.add(Embedding(input_dim=num_words, output_dim=32, input_length=max_len))\n",
        "\n",
        "# Flatten 층 추가\n",
        "model.add(Flatten())\n",
        "\n",
        "# Dense 층 추가\n",
        "model.add(Dense(1, activation='sigmoid'))\n",
        "\n",
        "# 모델 빌드\n",
        "model.build(input_shape=(None, max_len))\n",
        "\n",
        "# 모델 요약 출력\n",
        "model.summary()"
      ],
      "execution_count": 44,
      "outputs": [
        {
          "output_type": "stream",
          "name": "stderr",
          "text": [
            "/usr/local/lib/python3.10/dist-packages/keras/src/layers/core/embedding.py:90: UserWarning: Argument `input_length` is deprecated. Just remove it.\n",
            "  warnings.warn(\n"
          ]
        },
        {
          "output_type": "display_data",
          "data": {
            "text/plain": [
              "\u001b[1mModel: \"sequential_4\"\u001b[0m\n"
            ],
            "text/html": [
              "<pre style=\"white-space:pre;overflow-x:auto;line-height:normal;font-family:Menlo,'DejaVu Sans Mono',consolas,'Courier New',monospace\"><span style=\"font-weight: bold\">Model: \"sequential_4\"</span>\n",
              "</pre>\n"
            ]
          },
          "metadata": {}
        },
        {
          "output_type": "display_data",
          "data": {
            "text/plain": [
              "┏━━━━━━━━━━━━━━━━━━━━━━━━━━━━━━━━━━━━━━┳━━━━━━━━━━━━━━━━━━━━━━━━━━━━━┳━━━━━━━━━━━━━━━━━┓\n",
              "┃\u001b[1m \u001b[0m\u001b[1mLayer (type)                        \u001b[0m\u001b[1m \u001b[0m┃\u001b[1m \u001b[0m\u001b[1mOutput Shape               \u001b[0m\u001b[1m \u001b[0m┃\u001b[1m \u001b[0m\u001b[1m        Param #\u001b[0m\u001b[1m \u001b[0m┃\n",
              "┡━━━━━━━━━━━━━━━━━━━━━━━━━━━━━━━━━━━━━━╇━━━━━━━━━━━━━━━━━━━━━━━━━━━━━╇━━━━━━━━━━━━━━━━━┩\n",
              "│ embedding_4 (\u001b[38;5;33mEmbedding\u001b[0m)              │ (\u001b[38;5;45mNone\u001b[0m, \u001b[38;5;34m400\u001b[0m, \u001b[38;5;34m32\u001b[0m)             │          \u001b[38;5;34m64,000\u001b[0m │\n",
              "├──────────────────────────────────────┼─────────────────────────────┼─────────────────┤\n",
              "│ flatten_4 (\u001b[38;5;33mFlatten\u001b[0m)                  │ (\u001b[38;5;45mNone\u001b[0m, \u001b[38;5;34m12800\u001b[0m)               │               \u001b[38;5;34m0\u001b[0m │\n",
              "├──────────────────────────────────────┼─────────────────────────────┼─────────────────┤\n",
              "│ dense_4 (\u001b[38;5;33mDense\u001b[0m)                      │ (\u001b[38;5;45mNone\u001b[0m, \u001b[38;5;34m1\u001b[0m)                   │          \u001b[38;5;34m12,801\u001b[0m │\n",
              "└──────────────────────────────────────┴─────────────────────────────┴─────────────────┘\n"
            ],
            "text/html": [
              "<pre style=\"white-space:pre;overflow-x:auto;line-height:normal;font-family:Menlo,'DejaVu Sans Mono',consolas,'Courier New',monospace\">┏━━━━━━━━━━━━━━━━━━━━━━━━━━━━━━━━━━━━━━┳━━━━━━━━━━━━━━━━━━━━━━━━━━━━━┳━━━━━━━━━━━━━━━━━┓\n",
              "┃<span style=\"font-weight: bold\"> Layer (type)                         </span>┃<span style=\"font-weight: bold\"> Output Shape                </span>┃<span style=\"font-weight: bold\">         Param # </span>┃\n",
              "┡━━━━━━━━━━━━━━━━━━━━━━━━━━━━━━━━━━━━━━╇━━━━━━━━━━━━━━━━━━━━━━━━━━━━━╇━━━━━━━━━━━━━━━━━┩\n",
              "│ embedding_4 (<span style=\"color: #0087ff; text-decoration-color: #0087ff\">Embedding</span>)              │ (<span style=\"color: #00d7ff; text-decoration-color: #00d7ff\">None</span>, <span style=\"color: #00af00; text-decoration-color: #00af00\">400</span>, <span style=\"color: #00af00; text-decoration-color: #00af00\">32</span>)             │          <span style=\"color: #00af00; text-decoration-color: #00af00\">64,000</span> │\n",
              "├──────────────────────────────────────┼─────────────────────────────┼─────────────────┤\n",
              "│ flatten_4 (<span style=\"color: #0087ff; text-decoration-color: #0087ff\">Flatten</span>)                  │ (<span style=\"color: #00d7ff; text-decoration-color: #00d7ff\">None</span>, <span style=\"color: #00af00; text-decoration-color: #00af00\">12800</span>)               │               <span style=\"color: #00af00; text-decoration-color: #00af00\">0</span> │\n",
              "├──────────────────────────────────────┼─────────────────────────────┼─────────────────┤\n",
              "│ dense_4 (<span style=\"color: #0087ff; text-decoration-color: #0087ff\">Dense</span>)                      │ (<span style=\"color: #00d7ff; text-decoration-color: #00d7ff\">None</span>, <span style=\"color: #00af00; text-decoration-color: #00af00\">1</span>)                   │          <span style=\"color: #00af00; text-decoration-color: #00af00\">12,801</span> │\n",
              "└──────────────────────────────────────┴─────────────────────────────┴─────────────────┘\n",
              "</pre>\n"
            ]
          },
          "metadata": {}
        },
        {
          "output_type": "display_data",
          "data": {
            "text/plain": [
              "\u001b[1m Total params: \u001b[0m\u001b[38;5;34m76,801\u001b[0m (300.00 KB)\n"
            ],
            "text/html": [
              "<pre style=\"white-space:pre;overflow-x:auto;line-height:normal;font-family:Menlo,'DejaVu Sans Mono',consolas,'Courier New',monospace\"><span style=\"font-weight: bold\"> Total params: </span><span style=\"color: #00af00; text-decoration-color: #00af00\">76,801</span> (300.00 KB)\n",
              "</pre>\n"
            ]
          },
          "metadata": {}
        },
        {
          "output_type": "display_data",
          "data": {
            "text/plain": [
              "\u001b[1m Trainable params: \u001b[0m\u001b[38;5;34m76,801\u001b[0m (300.00 KB)\n"
            ],
            "text/html": [
              "<pre style=\"white-space:pre;overflow-x:auto;line-height:normal;font-family:Menlo,'DejaVu Sans Mono',consolas,'Courier New',monospace\"><span style=\"font-weight: bold\"> Trainable params: </span><span style=\"color: #00af00; text-decoration-color: #00af00\">76,801</span> (300.00 KB)\n",
              "</pre>\n"
            ]
          },
          "metadata": {}
        },
        {
          "output_type": "display_data",
          "data": {
            "text/plain": [
              "\u001b[1m Non-trainable params: \u001b[0m\u001b[38;5;34m0\u001b[0m (0.00 B)\n"
            ],
            "text/html": [
              "<pre style=\"white-space:pre;overflow-x:auto;line-height:normal;font-family:Menlo,'DejaVu Sans Mono',consolas,'Courier New',monospace\"><span style=\"font-weight: bold\"> Non-trainable params: </span><span style=\"color: #00af00; text-decoration-color: #00af00\">0</span> (0.00 B)\n",
              "</pre>\n"
            ]
          },
          "metadata": {}
        }
      ]
    },
    {
      "cell_type": "code",
      "metadata": {
        "id": "I5BK5HXnBtIN"
      },
      "source": [
        "model.compile(optimizer='rmsprop',\n",
        "              loss='binary_crossentropy',\n",
        "              metrics=['acc'])"
      ],
      "execution_count": 45,
      "outputs": []
    },
    {
      "cell_type": "code",
      "metadata": {
        "id": "odClZim0Bs-O",
        "colab": {
          "base_uri": "https://localhost:8080/"
        },
        "outputId": "a32e99f9-4683-4e48-e805-b13fb81d6080"
      },
      "source": [
        "history2 = model.fit(pad_x_train_2, y_train,\n",
        "                    epochs=10,\n",
        "                    batch_size=32,\n",
        "                    validation_split=0.2)"
      ],
      "execution_count": 46,
      "outputs": [
        {
          "output_type": "stream",
          "name": "stdout",
          "text": [
            "Epoch 1/10\n",
            "\u001b[1m625/625\u001b[0m \u001b[32m━━━━━━━━━━━━━━━━━━━━\u001b[0m\u001b[37m\u001b[0m \u001b[1m24s\u001b[0m 35ms/step - acc: 0.6179 - loss: 0.6319 - val_acc: 0.8064 - val_loss: 0.4074\n",
            "Epoch 2/10\n",
            "\u001b[1m625/625\u001b[0m \u001b[32m━━━━━━━━━━━━━━━━━━━━\u001b[0m\u001b[37m\u001b[0m \u001b[1m22s\u001b[0m 35ms/step - acc: 0.8631 - loss: 0.3265 - val_acc: 0.8550 - val_loss: 0.3362\n",
            "Epoch 3/10\n",
            "\u001b[1m625/625\u001b[0m \u001b[32m━━━━━━━━━━━━━━━━━━━━\u001b[0m\u001b[37m\u001b[0m \u001b[1m41s\u001b[0m 36ms/step - acc: 0.8957 - loss: 0.2547 - val_acc: 0.8446 - val_loss: 0.3702\n",
            "Epoch 4/10\n",
            "\u001b[1m625/625\u001b[0m \u001b[32m━━━━━━━━━━━━━━━━━━━━\u001b[0m\u001b[37m\u001b[0m \u001b[1m41s\u001b[0m 36ms/step - acc: 0.9261 - loss: 0.2012 - val_acc: 0.8488 - val_loss: 0.3589\n",
            "Epoch 5/10\n",
            "\u001b[1m625/625\u001b[0m \u001b[32m━━━━━━━━━━━━━━━━━━━━\u001b[0m\u001b[37m\u001b[0m \u001b[1m23s\u001b[0m 36ms/step - acc: 0.9472 - loss: 0.1591 - val_acc: 0.8506 - val_loss: 0.3755\n",
            "Epoch 6/10\n",
            "\u001b[1m625/625\u001b[0m \u001b[32m━━━━━━━━━━━━━━━━━━━━\u001b[0m\u001b[37m\u001b[0m \u001b[1m41s\u001b[0m 37ms/step - acc: 0.9668 - loss: 0.1119 - val_acc: 0.8512 - val_loss: 0.3912\n",
            "Epoch 7/10\n",
            "\u001b[1m625/625\u001b[0m \u001b[32m━━━━━━━━━━━━━━━━━━━━\u001b[0m\u001b[37m\u001b[0m \u001b[1m22s\u001b[0m 36ms/step - acc: 0.9802 - loss: 0.0790 - val_acc: 0.8400 - val_loss: 0.4325\n",
            "Epoch 8/10\n",
            "\u001b[1m625/625\u001b[0m \u001b[32m━━━━━━━━━━━━━━━━━━━━\u001b[0m\u001b[37m\u001b[0m \u001b[1m22s\u001b[0m 35ms/step - acc: 0.9870 - loss: 0.0554 - val_acc: 0.8338 - val_loss: 0.5233\n",
            "Epoch 9/10\n",
            "\u001b[1m625/625\u001b[0m \u001b[32m━━━━━━━━━━━━━━━━━━━━\u001b[0m\u001b[37m\u001b[0m \u001b[1m22s\u001b[0m 35ms/step - acc: 0.9944 - loss: 0.0370 - val_acc: 0.8346 - val_loss: 0.5175\n",
            "Epoch 10/10\n",
            "\u001b[1m625/625\u001b[0m \u001b[32m━━━━━━━━━━━━━━━━━━━━\u001b[0m\u001b[37m\u001b[0m \u001b[1m41s\u001b[0m 35ms/step - acc: 0.9961 - loss: 0.0243 - val_acc: 0.8342 - val_loss: 0.5590\n"
          ]
        }
      ]
    },
    {
      "cell_type": "code",
      "metadata": {
        "id": "rVPTlmjZB--j",
        "colab": {
          "base_uri": "https://localhost:8080/",
          "height": 835
        },
        "outputId": "6a2cf41d-07b5-446c-e9a8-f38454e08e69"
      },
      "source": [
        "hist_dict = history.history\n",
        "hist_dict.keys()\n",
        "\n",
        "plt.plot(hist_dict['loss'], 'b-', label='Train Loss')\n",
        "plt.plot(hist_dict['val_loss'], 'r:', label='Validation Loss')\n",
        "plt.legend()\n",
        "plt.grid()\n",
        "\n",
        "plt.figure()\n",
        "plt.plot(hist_dict['acc'], 'b-', label='Train Accuracy')\n",
        "plt.plot(hist_dict['val_acc'], 'r:', label='Validation Loss')\n",
        "plt.legend()\n",
        "plt.grid()\n",
        "\n",
        "plt.show()"
      ],
      "execution_count": 51,
      "outputs": [
        {
          "output_type": "display_data",
          "data": {
            "text/plain": [
              "<Figure size 640x480 with 1 Axes>"
            ],
            "image/png": "[encoded data removed]"
          },
          "metadata": {}
        },
        {
          "output_type": "display_data",
          "data": {
            "text/plain": [
              "<Figure size 640x480 with 1 Axes>"
            ],
            "image/png": "[encoded data removed]"
          },
          "metadata": {}
        }
      ]
    },
    {
      "cell_type": "code",
      "metadata": {
        "id": "mZ5WbSX_CHUa",
        "colab": {
          "base_uri": "https://localhost:8080/"
        },
        "outputId": "26faac97-9252-43eb-e96a-2f2832f2169b"
      },
      "source": [
        "model.evaluate(pad_x_test_2,y_test)"
      ],
      "execution_count": 53,
      "outputs": [
        {
          "output_type": "stream",
          "name": "stdout",
          "text": [
            "\u001b[1m782/782\u001b[0m \u001b[32m━━━━━━━━━━━━━━━━━━━━\u001b[0m\u001b[37m\u001b[0m \u001b[1m1s\u001b[0m 1ms/step - acc: 0.8360 - loss: 0.5167\n"
          ]
        },
        {
          "output_type": "execute_result",
          "data": {
            "text/plain": [
              "[0.5285559892654419, 0.8353999853134155]"
            ]
          },
          "metadata": {},
          "execution_count": 53
        }
      ]
    },
    {
      "cell_type": "markdown",
      "metadata": {
        "id": "6I0C5ueK73_g"
      },
      "source": [
        "위의 결과도 나쁘지 않으나 과적합이 되는 이유\n",
        "- 단어간 관계나 문장 구조 등 의미적 연결을 고려하지 않음\n",
        "\n",
        "- 시퀀스 전체를 고려한 특성을 학습하는 것은 `Embedding`층 위에 `RNN`층이나 `1D 합성곱`을 추가하는 것이 좋음\n"
      ]
    },
    {
      "cell_type": "markdown",
      "metadata": {
        "id": "ud_-PnE873_h"
      },
      "source": [
        "## Word2Vec\n",
        "\n",
        "- 2013년, Mikolov 와 동료들이 제안한 모형\n",
        "\n",
        "- 분류 등과 같이 별도의 레이블이 없이 텍스트 자체만 있어도 학습이 가능\n",
        "\n",
        "- Word2Vec의 방식  \n",
        "  주변 단어의 관계를 이용\n",
        "\n",
        "  - CBOW(continuous bag-of-words)\n",
        "    - 주변단어의 임베딩을 더해서 대상단어를 예측\n",
        "\n",
        "  - Skip-Gram\n",
        "    - 대상 단어의 임베딩으로 주변단어를 예측\n",
        "\n",
        "    - 일반적으로 CBOW보다 성능이 좋은 편\n",
        "\n",
        "    - 한번에 여러 단어를 예측해야하기 때문에 비효율적  \n",
        "      최근에는 **negative sampling**이라는 방법을 사용\n",
        "\n",
        "  <img src=\"https://www.researchgate.net/publication/328160770/figure/fig14/AS:679665089925122@1539056193562/CBOW-and-Skip-Gram-neural-architectures.ppm\">\n",
        "\n",
        "  <sub>출처: https://www.researchgate.net/figure/CBOW-and-Skip-Gram-neural-architectures_fig14_328160770</sub>"
      ]
    },
    {
      "cell_type": "markdown",
      "metadata": {
        "id": "QARhfhIt1j4I"
      },
      "source": [
        "## T-SNE"
      ]
    },
    {
      "cell_type": "markdown",
      "metadata": {
        "id": "v9ymcBIKl40u"
      },
      "source": [
        "* T-SNE(t-Stochastic Neighbor Embedding)은 고차원의 벡터들의 구조를 보존하며 저차원으로 사상하는 차원 축소 알고리즘\n",
        "* 단어 임베딩에서도 생성된 고차원 벡터들을 시각화하기 위해 이 T-SNE 알고리즘을 많이 이용\n",
        "\n",
        "* t-sne는 가장 먼저 원 공간의 데이터 유사도 $p_{ij}$와 임베딩 공간의 데이터 유사도 $q_{ij}$를 정의\n",
        "* $x_i$에서 $x_j$ 간의 유사도 $p_{j|i}$ 는 다음과 같이 정의\n",
        "\n",
        "$$ p_{j|i} = \\frac {exp({-|x_i - x_j|}^2 / 2  \\sigma^2_i)}{\\sum_{k \\neq i}exp({-|x_i - x_k|}^2 / 2  \\sigma^2_i)} $$\n",
        "\n",
        "* 설명하자면 $p_{j|i}$는 $x_i$와 $x_j$ 간의 거리에서 가중치 $\\sigma^2_i$로 나눈 후, 이를 negative exponential을 취해 모든 점 간의 거리의 합과 나누어준 값으로 두 점 간의 거리가 가까울 수록 큰 값을 가짐\n",
        "\n",
        "* 또한 임베딩 공간에서의 $y_i$에서 $y_j$ 간의 유사도 $q_{j|i}$ 는 다음과 같이 정의\n",
        "\n",
        "$$ q_{j|i} = \\frac {(1 + |y_i-y_j|^2)^{-1}}{\\sum_{k \\neq l}(1 + |y_i-y_j|^2)^{-1}} $$\n",
        "\n",
        "* $q_{j|i}$는 $x_i$와 $x_j$ 간의 거리에서 1을 더해준 후 역수를 취한 값과 전체 합산 값과 나누어 유사도를 정의\n",
        "\n",
        "* T-SNE의 학습은 $p_{j|i}$와 비슷해지도록 $q_{j|i}$의 위치를 조정하는 것이라고 할 수 있음\n",
        "\n"
      ]
    },
    {
      "cell_type": "markdown",
      "metadata": {
        "id": "d7ocZw5XSRDN"
      },
      "source": [
        "## 데이터 준비"
      ]
    },
    {
      "cell_type": "code",
      "metadata": {
        "id": "ohSE_JnMSRDR"
      },
      "source": [],
      "execution_count": null,
      "outputs": []
    },
    {
      "cell_type": "code",
      "metadata": {
        "id": "E56d3KXroenQ"
      },
      "source": [],
      "execution_count": null,
      "outputs": []
    },
    {
      "cell_type": "code",
      "metadata": {
        "id": "QCo9S9RlrfQg"
      },
      "source": [],
      "execution_count": null,
      "outputs": []
    },
    {
      "cell_type": "code",
      "metadata": {
        "id": "9xzZu6Iprj5B"
      },
      "source": [],
      "execution_count": null,
      "outputs": []
    },
    {
      "cell_type": "code",
      "metadata": {
        "id": "Oi3PJ7dMsF8K"
      },
      "source": [],
      "execution_count": null,
      "outputs": []
    },
    {
      "cell_type": "code",
      "metadata": {
        "id": "ViSra6MYuM9x"
      },
      "source": [],
      "execution_count": null,
      "outputs": []
    },
    {
      "cell_type": "code",
      "metadata": {
        "id": "Z3JgTpVfSRD_"
      },
      "source": [],
      "execution_count": null,
      "outputs": []
    },
    {
      "cell_type": "code",
      "metadata": {
        "id": "uMCYgUIpSREH"
      },
      "source": [],
      "execution_count": null,
      "outputs": []
    },
    {
      "cell_type": "markdown",
      "metadata": {
        "id": "IJ8Zkrar1umI"
      },
      "source": [
        "## Gensim을 이용한 Word2Vec"
      ]
    },
    {
      "cell_type": "markdown",
      "metadata": {
        "id": "-vw3V1fPp88u"
      },
      "source": [
        "### CBOW"
      ]
    },
    {
      "cell_type": "code",
      "metadata": {
        "id": "aByJKUOXp-64"
      },
      "source": [],
      "execution_count": null,
      "outputs": []
    },
    {
      "cell_type": "code",
      "metadata": {
        "id": "u9Qigdn1THXO"
      },
      "source": [],
      "execution_count": null,
      "outputs": []
    },
    {
      "cell_type": "code",
      "metadata": {
        "id": "Yp8qBYyITHXd"
      },
      "source": [],
      "execution_count": null,
      "outputs": []
    },
    {
      "cell_type": "code",
      "metadata": {
        "id": "eVjZt1u0THX1"
      },
      "source": [],
      "execution_count": null,
      "outputs": []
    },
    {
      "cell_type": "markdown",
      "metadata": {
        "id": "bKUEE4nnp5CR"
      },
      "source": [
        "### Skip-gram"
      ]
    },
    {
      "cell_type": "code",
      "metadata": {
        "id": "lcXY8cG50VuX"
      },
      "source": [],
      "execution_count": null,
      "outputs": []
    },
    {
      "cell_type": "code",
      "metadata": {
        "id": "BGFj05bES53-"
      },
      "source": [],
      "execution_count": null,
      "outputs": []
    },
    {
      "cell_type": "code",
      "metadata": {
        "id": "s4m5KmQVTAje"
      },
      "source": [],
      "execution_count": null,
      "outputs": []
    },
    {
      "cell_type": "code",
      "metadata": {
        "id": "0ezmKn03TC3d"
      },
      "source": [],
      "execution_count": null,
      "outputs": []
    },
    {
      "cell_type": "markdown",
      "metadata": {
        "id": "nrBZX9ZlSw6O"
      },
      "source": [
        "### 임베딩 벡터 시각화"
      ]
    },
    {
      "cell_type": "code",
      "metadata": {
        "id": "gA674OcrStUQ"
      },
      "source": [],
      "execution_count": null,
      "outputs": []
    },
    {
      "cell_type": "markdown",
      "metadata": {
        "id": "8yRepgJTWSte"
      },
      "source": [
        "* metadata.tsv와 tensor.tsv 데이터 생성"
      ]
    },
    {
      "cell_type": "code",
      "metadata": {
        "id": "zrfecS8nS9NE"
      },
      "source": [],
      "execution_count": null,
      "outputs": []
    },
    {
      "cell_type": "code",
      "metadata": {
        "id": "9saj56WLW0qT"
      },
      "source": [],
      "execution_count": null,
      "outputs": []
    },
    {
      "cell_type": "markdown",
      "metadata": {
        "id": "nD_aU-YOTEon"
      },
      "source": [
        "* Embedding Projector: https://projector.tensorflow.org/"
      ]
    }
  ]
}