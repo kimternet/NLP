{
  "nbformat": 4,
  "nbformat_minor": 0,
  "metadata": {
    "colab": {
      "provenance": []
    },
    "kernelspec": {
      "name": "python3",
      "display_name": "Python 3"
    }
  },
  "cells": [
    {
      "cell_type": "markdown",
      "metadata": {
        "id": "meRAQbe3ArB7"
      },
      "source": [
        "# 문서 분류(Document Classification)"
      ]
    },
    {
      "cell_type": "markdown",
      "metadata": {
        "id": "myxaNrtIl7Z0"
      },
      "source": [
        "## 데이터 준비"
      ]
    },
    {
      "cell_type": "markdown",
      "metadata": {
        "id": "e85EZuHb-Z9f"
      },
      "source": [
        "* 문서 분류에 필요한 데이터는 `scikit-learn`이 제공하는 20개의 주제를 가지는 뉴스그룹 데이터를 사용\n",
        "* 텍스트는 `CounterVectorizer`를 거쳐 DTM 행렬로 변환\n",
        "* DTM 행렬은 문서에 등장하는 단어들을 빈도 수 별로 표현한 행렬\n"
      ]
    },
    {
      "cell_type": "code",
      "metadata": {
        "id": "AYsGQgxCl-kQ",
        "colab": {
          "base_uri": "https://localhost:8080/"
        },
        "outputId": "0e9eaceb-67f8-4d9e-fb49-aaf026db11a1"
      },
      "source": [
        "from sklearn.datasets import fetch_20newsgroups\n",
        "from sklearn.feature_extraction.text import CountVectorizer\n",
        "from sklearn.model_selection import train_test_split\n",
        "\n",
        "news = fetch_20newsgroups()\n",
        "\n",
        "x = news.data\n",
        "y = news.target\n",
        "\n",
        "cv = CountVectorizer()\n",
        "x = cv.fit_transform(x)\n",
        "\n",
        "x_train, x_test, y_train, y_test = train_test_split(x, y, test_size=0.3)\n",
        "print(x_train.shape, y_train.shape, x_test.shape, y_test.shape)"
      ],
      "execution_count": 1,
      "outputs": [
        {
          "output_type": "stream",
          "name": "stdout",
          "text": [
            "(7919, 130107) (7919,) (3395, 130107) (3395,)\n"
          ]
        }
      ]
    },
    {
      "cell_type": "code",
      "metadata": {
        "id": "4iRARmcl_EmI",
        "colab": {
          "base_uri": "https://localhost:8080/"
        },
        "outputId": "0595288f-507f-4a49-fd1f-f73c880b3cc7"
      },
      "source": [
        "print(x_train[0])"
      ],
      "execution_count": 2,
      "outputs": [
        {
          "output_type": "stream",
          "name": "stdout",
          "text": [
            "  (0, 56979)\t1\n",
            "  (0, 50527)\t4\n",
            "  (0, 114688)\t1\n",
            "  (0, 111322)\t1\n",
            "  (0, 68532)\t2\n",
            "  (0, 87620)\t1\n",
            "  (0, 95162)\t1\n",
            "  (0, 64095)\t1\n",
            "  (0, 90379)\t1\n",
            "  (0, 76032)\t1\n",
            "  (0, 123292)\t1\n",
            "  (0, 65798)\t1\n",
            "  (0, 89860)\t3\n",
            "  (0, 114455)\t13\n",
            "  (0, 68766)\t3\n",
            "  (0, 115475)\t5\n",
            "  (0, 32311)\t2\n",
            "  (0, 27436)\t1\n",
            "  (0, 90252)\t2\n",
            "  (0, 128402)\t3\n",
            "  (0, 62221)\t2\n",
            "  (0, 53419)\t1\n",
            "  (0, 124616)\t1\n",
            "  (0, 28146)\t4\n",
            "  (0, 29241)\t1\n",
            "  :\t:\n",
            "  (0, 31464)\t4\n",
            "  (0, 122292)\t3\n",
            "  (0, 93367)\t1\n",
            "  (0, 33879)\t1\n",
            "  (0, 111553)\t1\n",
            "  (0, 74585)\t1\n",
            "  (0, 81313)\t1\n",
            "  (0, 28975)\t1\n",
            "  (0, 32747)\t1\n",
            "  (0, 107696)\t1\n",
            "  (0, 93891)\t1\n",
            "  (0, 104596)\t2\n",
            "  (0, 42627)\t1\n",
            "  (0, 99234)\t4\n",
            "  (0, 70469)\t3\n",
            "  (0, 33688)\t1\n",
            "  (0, 72704)\t1\n",
            "  (0, 107581)\t1\n",
            "  (0, 84456)\t1\n",
            "  (0, 53426)\t1\n",
            "  (0, 35634)\t3\n",
            "  (0, 54890)\t1\n",
            "  (0, 31458)\t2\n",
            "  (0, 117050)\t1\n",
            "  (0, 102622)\t1\n"
          ]
        }
      ]
    },
    {
      "cell_type": "markdown",
      "metadata": {
        "id": "JGM2WbEdAsGL"
      },
      "source": [
        "## scikit-learn을 이용한 문서 분류"
      ]
    },
    {
      "cell_type": "code",
      "metadata": {
        "id": "M7g4PrqerCkj"
      },
      "source": [
        "from sklearn.metrics import accuracy_score"
      ],
      "execution_count": 3,
      "outputs": []
    },
    {
      "cell_type": "markdown",
      "metadata": {
        "id": "jnww8xssA-FL"
      },
      "source": [
        "### Logistic Regression"
      ]
    },
    {
      "cell_type": "markdown",
      "metadata": {
        "id": "mgUTDK7o9wC6"
      },
      "source": [
        "* Logistic Regression은 특성상 다중 분류에는 적합하지 않음"
      ]
    },
    {
      "cell_type": "code",
      "metadata": {
        "id": "rk3jq9p9DCcv",
        "colab": {
          "base_uri": "https://localhost:8080/"
        },
        "outputId": "aafb642e-4bb3-42b1-a202-890f913bc4e8"
      },
      "source": [
        "from sklearn.linear_model import LogisticRegression\n",
        "\n",
        "LR = LogisticRegression()\n",
        "LR.fit(x_train, y_train)\n",
        "pred = LR.predict(x_test)\n",
        "acc = accuracy_score(pred, y_test)\n",
        "print(acc)"
      ],
      "execution_count": 4,
      "outputs": [
        {
          "output_type": "stream",
          "name": "stdout",
          "text": [
            "0.8642120765832106\n"
          ]
        },
        {
          "output_type": "stream",
          "name": "stderr",
          "text": [
            "/usr/local/lib/python3.10/dist-packages/sklearn/linear_model/_logistic.py:469: ConvergenceWarning: lbfgs failed to converge (status=1):\n",
            "STOP: TOTAL NO. of ITERATIONS REACHED LIMIT.\n",
            "\n",
            "Increase the number of iterations (max_iter) or scale the data as shown in:\n",
            "    https://scikit-learn.org/stable/modules/preprocessing.html\n",
            "Please also refer to the documentation for alternative solver options:\n",
            "    https://scikit-learn.org/stable/modules/linear_model.html#logistic-regression\n",
            "  n_iter_i = _check_optimize_result(\n"
          ]
        }
      ]
    },
    {
      "cell_type": "markdown",
      "source": [
        "### Support Vector Machine"
      ],
      "metadata": {
        "id": "CMNgP5E4Fb_Q"
      }
    },
    {
      "cell_type": "code",
      "source": [
        "from sklearn import svm\n",
        "\n",
        "SVM = svm.SVC(kernel='linear')\n",
        "SVM.fit(x_train, y_train)\n",
        "pred = SVM.predict(x_test)\n",
        "acc = accuracy_score(pred, y_test)\n",
        "print(acc)"
      ],
      "metadata": {
        "colab": {
          "base_uri": "https://localhost:8080/"
        },
        "id": "2RFVaNPUFTkY",
        "outputId": "0d988455-5b43-4ba9-8ec4-20688b43bd0e"
      },
      "execution_count": 5,
      "outputs": [
        {
          "output_type": "stream",
          "name": "stdout",
          "text": [
            "0.8223858615611193\n"
          ]
        }
      ]
    },
    {
      "cell_type": "markdown",
      "metadata": {
        "id": "M4g1mEefA-SU"
      },
      "source": [
        "### Naive Bayes"
      ]
    },
    {
      "cell_type": "markdown",
      "metadata": {
        "id": "qcIkL0Bx-AIG"
      },
      "source": [
        "#### DTM을 이용한 Naive Bayes"
      ]
    },
    {
      "cell_type": "code",
      "metadata": {
        "id": "ogbxoPS0DMTd",
        "colab": {
          "base_uri": "https://localhost:8080/"
        },
        "outputId": "f8753a7e-c325-48c7-c2bb-44f35457e35b"
      },
      "source": [
        "from sklearn.naive_bayes import MultinomialNB\n",
        "\n",
        "NB = MultinomialNB()\n",
        "NB.fit(x_train, y_train)\n",
        "pred = NB.predict(x_test)\n",
        "acc = accuracy_score(pred, y_test)\n",
        "print(acc)"
      ],
      "execution_count": 6,
      "outputs": [
        {
          "output_type": "stream",
          "name": "stdout",
          "text": [
            "0.8088365243004418\n"
          ]
        }
      ]
    },
    {
      "cell_type": "markdown",
      "metadata": {
        "id": "xZC7kjWt961H"
      },
      "source": [
        "#### tf-idf를 이용한 정확도 향상"
      ]
    },
    {
      "cell_type": "code",
      "metadata": {
        "id": "c2j7cZc71yiJ",
        "colab": {
          "base_uri": "https://localhost:8080/"
        },
        "outputId": "c87489f3-cd8d-4188-d24b-936ec11844e9"
      },
      "source": [
        "from sklearn.feature_extraction.text import TfidfTransformer\n",
        "\n",
        "tfidf = TfidfTransformer()\n",
        "x_train_tf = tfidf.fit_transform(x_train)\n",
        "x_test_tf = tfidf.fit_transform(x_test)\n",
        "\n",
        "NB.fit(x_train_tf, y_train)\n",
        "pred = NB.predict(x_test_tf)\n",
        "acc = accuracy_score(pred, y_test)\n",
        "print(acc)"
      ],
      "execution_count": 7,
      "outputs": [
        {
          "output_type": "stream",
          "name": "stdout",
          "text": [
            "0.8179675994108984\n"
          ]
        }
      ]
    },
    {
      "cell_type": "markdown",
      "metadata": {
        "id": "YPeounJWA-e6"
      },
      "source": [
        "### Decision Tree"
      ]
    },
    {
      "cell_type": "code",
      "metadata": {
        "id": "62wyoby4EEDb",
        "colab": {
          "base_uri": "https://localhost:8080/"
        },
        "outputId": "0407ef89-a314-414c-909b-23dc5f398489"
      },
      "source": [
        "from sklearn.tree import DecisionTreeClassifier\n",
        "\n",
        "DT = DecisionTreeClassifier()\n",
        "DT.fit(x_train, y_train)\n",
        "pred = DT.predict(x_test)\n",
        "acc = accuracy_score(pred, y_test)\n",
        "print(acc)"
      ],
      "execution_count": 8,
      "outputs": [
        {
          "output_type": "stream",
          "name": "stdout",
          "text": [
            "0.6203240058910162\n"
          ]
        }
      ]
    },
    {
      "cell_type": "markdown",
      "metadata": {
        "id": "UeEPOjxxA-my"
      },
      "source": [
        "### XGBoost"
      ]
    },
    {
      "cell_type": "code",
      "metadata": {
        "id": "m4TAgLK5ECCi",
        "colab": {
          "base_uri": "https://localhost:8080/"
        },
        "outputId": "7fe86d90-e5b4-4ce6-f5fd-007785557c18"
      },
      "source": [
        "from xgboost import XGBClassifier\n",
        "\n",
        "xgb = XGBClassifier(n_estimators=30, learning_rate=0.05, max_depth=3)\n",
        "xgb.fit(x_train, y_train)\n",
        "pred = xgb.predict(x_test)\n",
        "acc = accuracy_score(pred, y_test)\n",
        "print(acc)"
      ],
      "execution_count": 9,
      "outputs": [
        {
          "output_type": "stream",
          "name": "stdout",
          "text": [
            "0.708100147275405\n"
          ]
        }
      ]
    },
    {
      "cell_type": "markdown",
      "metadata": {
        "id": "o1b4PWPBAWwn"
      },
      "source": [
        "##교차 검증"
      ]
    },
    {
      "cell_type": "markdown",
      "metadata": {
        "id": "bd7AexinGlYP"
      },
      "source": [
        "* 일반 검증은 학습 데이터가 테스트 데이터로 사용되지 않음\n",
        "* 교차 검증은 데이터를 n개의 집합으로 나누어 정확도를 계산해 학습 데이터로 사용된 데이터도 테스트 데이터로 사용\n",
        "* 교차 검증을 사용하면 일반 검증보다 모델의 일반화가 잘 되어 있는지 평가 가능\n",
        "* 앞서 구성한 나이브 베이즈 모델을 교차 검증"
      ]
    },
    {
      "cell_type": "code",
      "metadata": {
        "id": "ZzaiICzaHrI7",
        "colab": {
          "base_uri": "https://localhost:8080/"
        },
        "outputId": "fca4b2a7-2802-4ca1-9e07-77c2ca95277d"
      },
      "source": [
        "from sklearn.model_selection import cross_val_score\n",
        "\n",
        "scores = cross_val_score(NB, x, y, cv=5)\n",
        "print(scores, scores.mean())"
      ],
      "execution_count": 10,
      "outputs": [
        {
          "output_type": "stream",
          "name": "stdout",
          "text": [
            "[0.83870968 0.83826779 0.82368537 0.83031374 0.83642794] 0.833480903927519\n"
          ]
        }
      ]
    },
    {
      "cell_type": "markdown",
      "metadata": {
        "id": "qVQBNi5lIn3X"
      },
      "source": [
        "* 교차 검증을 통해 일반 검증보다 좀 더 일반화된 모델 생성 가능\n",
        "* 교차 검증은 일반 검증에 비해 n번 검증을 해 비용이 더 많이 소요"
      ]
    },
    {
      "cell_type": "markdown",
      "metadata": {
        "id": "uqIU3r_9AZQm"
      },
      "source": [
        "## 정밀도와 재현률"
      ]
    },
    {
      "cell_type": "markdown",
      "metadata": {
        "id": "5C0ZPgKLJSvt"
      },
      "source": [
        "* 정밀도(precision)는 양성 클래스(정답)으로 예측한 샘플이 양성 클래스일 확률을 의미\n",
        "* 모델이 얼마나 양성 클래스를 잘 예측하는지를 나타냄\n",
        "* 재현률(recall)은 양성 클래스인 샘플에서 모델이 양성 클래스로 예측한 샘플 비율을 의미하며, 모델이 얼마나 실제 상황을 재현하는지를 나타냄\n",
        "* 정밀도와 재현율의 가중조화평균인 F1-score라는 지표는 정확도에 비해 더 효과적인 모델 분석 지표로 알려져 있음\n",
        "* 직접 계산할 수도 있으나, scikit-learn은 이를 편리하게 계산해주는 함수를 제공"
      ]
    },
    {
      "cell_type": "markdown",
      "metadata": {
        "id": "Y3hObzsrNuzF"
      },
      "source": [
        "* 다중 클래스 분류 문제에서 정밀도와 재현률을 계산할 때는 클래스간의 지표를 어떻게 합칠지 지정 필요\n",
        "\n",
        "  * None - 클래스간 지표를 합치지 말고 그대로 출력\n",
        "  * micro - 정밀도와 재현률이 같음, 이로 인해 f1-score도 정밀도, 재현률과 동일\n",
        "  * macro - 클래스간 지표를 단순 평균한 값\n",
        "  * weighted - 클래스간 지표를 가중 평균한 값"
      ]
    },
    {
      "cell_type": "code",
      "metadata": {
        "id": "98npJWW8J9Px",
        "colab": {
          "base_uri": "https://localhost:8080/"
        },
        "outputId": "0bceb994-5795-4844-9d04-db38811f1e2e"
      },
      "source": [
        "from sklearn.metrics import precision_score, recall_score, f1_score\n",
        "\n",
        "precision = precision_score(pred, y_test, average='micro')\n",
        "recall = recall_score(pred, y_test, average='micro')\n",
        "f1 = f1_score(pred, y_test, average='micro')\n",
        "\n",
        "print(precision, recall, f1)"
      ],
      "execution_count": 11,
      "outputs": [
        {
          "output_type": "stream",
          "name": "stdout",
          "text": [
            "0.708100147275405 0.708100147275405 0.708100147275405\n"
          ]
        }
      ]
    },
    {
      "cell_type": "code",
      "source": [
        "precision = precision_score(pred, y_test, average='macro')\n",
        "recall = recall_score(pred, y_test, average='macro')\n",
        "f1 = f1_score(pred, y_test, average='macro')\n",
        "\n",
        "print(precision, recall, f1)"
      ],
      "metadata": {
        "colab": {
          "base_uri": "https://localhost:8080/"
        },
        "id": "ndDeKLB1HnWd",
        "outputId": "f8c1a16c-749c-4169-ebf4-1e76b566161e"
      },
      "execution_count": 14,
      "outputs": [
        {
          "output_type": "stream",
          "name": "stdout",
          "text": [
            "0.7041481959264637 0.7373227523842328 0.7142069216827347\n"
          ]
        }
      ]
    },
    {
      "cell_type": "markdown",
      "metadata": {
        "id": "QY3s-EXdArpC"
      },
      "source": [
        "## 그리드 검색을 이용한 파라미터 최적화"
      ]
    },
    {
      "cell_type": "markdown",
      "metadata": {
        "id": "Z0rY-TxKCsOi"
      },
      "source": [
        "* 그리드 검색을 사용하면 분류기에 사용하는 파라미터 최적화 가능\n",
        "* 그리드 검색을 통해 앞서 구성한 나이브 베이즈 모델의 'alpha' 파라미터를 최적화시키는 예제"
      ]
    },
    {
      "cell_type": "markdown",
      "metadata": {
        "id": "jOkeA7siDdvF"
      },
      "source": [
        "* `estimator`: 사용 모델 객체     \n",
        "* `param_grid`: 사용 객체:지정 파라미터 리스트로 구성된 딕셔너리    \n",
        "* `scoring`: 최적화하고자 하는 성능 지표   \n",
        "* `cv`: 교차 검증 분할 개수      "
      ]
    },
    {
      "cell_type": "code",
      "metadata": {
        "id": "cCheUO9YBgRi",
        "colab": {
          "base_uri": "https://localhost:8080/"
        },
        "outputId": "d1e98f7e-96e9-44e8-c966-a6382c25ff3f"
      },
      "source": [
        "from sklearn.model_selection import GridSearchCV\n",
        "\n",
        "GS = GridSearchCV(estimator=NB, param_grid={'alpha': [0.001, 0.002, 0.003, 0.004, 0.005]}, scoring='accuracy', cv=10)\n",
        "GS.fit(x, y)\n",
        "\n",
        "print(GS.best_score_)\n",
        "print(GS.best_params_)"
      ],
      "execution_count": 15,
      "outputs": [
        {
          "output_type": "stream",
          "name": "stdout",
          "text": [
            "0.8897820965842167\n",
            "{'alpha': 0.001}\n"
          ]
        }
      ]
    }
  ]
}